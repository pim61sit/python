{
 "cells": [
  {
   "cell_type": "code",
   "execution_count": 2,
   "id": "af82aa1b",
   "metadata": {},
   "outputs": [
    {
     "name": "stdout",
     "output_type": "stream",
     "text": [
      "hello world!\n"
     ]
    }
   ],
   "source": [
    "print(\"hello world!\")"
   ]
  },
  {
   "cell_type": "code",
   "execution_count": 4,
   "id": "47fbe8e6",
   "metadata": {},
   "outputs": [
    {
     "data": {
      "text/plain": [
       "int"
      ]
     },
     "execution_count": 4,
     "metadata": {},
     "output_type": "execute_result"
    }
   ],
   "source": [
    "type(42)"
   ]
  },
  {
   "cell_type": "code",
   "execution_count": 7,
   "id": "37d06920",
   "metadata": {},
   "outputs": [
    {
     "data": {
      "text/plain": [
       "bool"
      ]
     },
     "execution_count": 7,
     "metadata": {},
     "output_type": "execute_result"
    }
   ],
   "source": [
    "type(True)"
   ]
  },
  {
   "cell_type": "code",
   "execution_count": 9,
   "id": "cd32cd73",
   "metadata": {},
   "outputs": [
    {
     "data": {
      "text/plain": [
       "4"
      ]
     },
     "execution_count": 9,
     "metadata": {},
     "output_type": "execute_result"
    }
   ],
   "source": [
    "abs(-4)"
   ]
  },
  {
   "cell_type": "code",
   "execution_count": 16,
   "id": "d39a133f",
   "metadata": {},
   "outputs": [
    {
     "data": {
      "text/plain": [
       "0.6666666666666666"
      ]
     },
     "execution_count": 16,
     "metadata": {},
     "output_type": "execute_result"
    }
   ],
   "source": [
    "2/3"
   ]
  },
  {
   "cell_type": "code",
   "execution_count": 18,
   "id": "18324ef3",
   "metadata": {},
   "outputs": [
    {
     "data": {
      "text/plain": [
       "3"
      ]
     },
     "execution_count": 18,
     "metadata": {},
     "output_type": "execute_result"
    }
   ],
   "source": [
    "int(3.99)"
   ]
  },
  {
   "cell_type": "code",
   "execution_count": 21,
   "id": "18f0f8bc",
   "metadata": {},
   "outputs": [
    {
     "data": {
      "text/plain": [
       "7.0"
      ]
     },
     "execution_count": 21,
     "metadata": {},
     "output_type": "execute_result"
    }
   ],
   "source": [
    "float(7)\n"
   ]
  },
  {
   "cell_type": "code",
   "execution_count": 23,
   "id": "797f5b0f",
   "metadata": {},
   "outputs": [
    {
     "data": {
      "text/plain": [
       "2.15"
      ]
     },
     "execution_count": 23,
     "metadata": {},
     "output_type": "execute_result"
    }
   ],
   "source": [
    "2.15"
   ]
  },
  {
   "cell_type": "code",
   "execution_count": 25,
   "id": "7f1e1d5a",
   "metadata": {},
   "outputs": [
    {
     "data": {
      "text/plain": [
       "type"
      ]
     },
     "execution_count": 25,
     "metadata": {},
     "output_type": "execute_result"
    }
   ],
   "source": [
    "type(int)"
   ]
  },
  {
   "cell_type": "code",
   "execution_count": 27,
   "id": "7c5b3272",
   "metadata": {},
   "outputs": [
    {
     "name": "stdout",
     "output_type": "stream",
     "text": [
      "<class 'int'>\n"
     ]
    }
   ],
   "source": [
    "print(type(round(2/3)))"
   ]
  },
  {
   "cell_type": "code",
   "execution_count": 29,
   "id": "2061bcbc",
   "metadata": {},
   "outputs": [
    {
     "data": {
      "text/plain": [
       "Type help() for interactive help, or help(object) for help about object."
      ]
     },
     "execution_count": 29,
     "metadata": {},
     "output_type": "execute_result"
    }
   ],
   "source": [
    "help"
   ]
  },
  {
   "cell_type": "code",
   "execution_count": 33,
   "id": "202ae606",
   "metadata": {},
   "outputs": [
    {
     "name": "stdout",
     "output_type": "stream",
     "text": [
      "Help on built-in function round in module builtins:\n",
      "\n",
      "round(number, ndigits=None)\n",
      "    Round a number to a given precision in decimal digits.\n",
      "    \n",
      "    The return value is an integer if ndigits is omitted or None.  Otherwise\n",
      "    the return value has the same type as the number.  ndigits may be negative.\n",
      "\n"
     ]
    }
   ],
   "source": [
    "help (round)"
   ]
  },
  {
   "cell_type": "code",
   "execution_count": 37,
   "id": "0279d197",
   "metadata": {},
   "outputs": [
    {
     "data": {
      "text/plain": [
       "0.6667"
      ]
     },
     "execution_count": 37,
     "metadata": {},
     "output_type": "execute_result"
    }
   ],
   "source": [
    "round(2/3, ndigits = 4)"
   ]
  },
  {
   "cell_type": "code",
   "execution_count": 50,
   "id": "eb29f35b",
   "metadata": {},
   "outputs": [],
   "source": [
    "def round(num):\n",
    "    return num + 1"
   ]
  },
  {
   "cell_type": "code",
   "execution_count": 53,
   "id": "3a7e291c",
   "metadata": {},
   "outputs": [
    {
     "data": {
      "text/plain": [
       "4"
      ]
     },
     "execution_count": 53,
     "metadata": {},
     "output_type": "execute_result"
    }
   ],
   "source": [
    "round(3)"
   ]
  },
  {
   "cell_type": "code",
   "execution_count": 1,
   "id": "cf8d0d72",
   "metadata": {},
   "outputs": [],
   "source": [
    "def c_to_f(degrees_c):\n",
    "    degrees_f = (9/5) * degrees_c +32\n",
    "    return degrees_f"
   ]
  },
  {
   "cell_type": "code",
   "execution_count": 2,
   "id": "e5fd0057",
   "metadata": {},
   "outputs": [
    {
     "data": {
      "text/plain": [
       "212.0"
      ]
     },
     "execution_count": 2,
     "metadata": {},
     "output_type": "execute_result"
    }
   ],
   "source": [
    "c_to_f(100)"
   ]
  },
  {
   "cell_type": "code",
   "execution_count": 3,
   "id": "7806b621",
   "metadata": {},
   "outputs": [
    {
     "data": {
      "text/plain": [
       "12.2"
      ]
     },
     "execution_count": 3,
     "metadata": {},
     "output_type": "execute_result"
    }
   ],
   "source": [
    "c_to_f(-11)\n"
   ]
  },
  {
   "cell_type": "code",
   "execution_count": 4,
   "id": "11ac18c0",
   "metadata": {},
   "outputs": [],
   "source": [
    "freesing_f = c_to_f(0)"
   ]
  },
  {
   "cell_type": "code",
   "execution_count": 6,
   "id": "12301a17",
   "metadata": {},
   "outputs": [
    {
     "data": {
      "text/plain": [
       "32.0"
      ]
     },
     "execution_count": 6,
     "metadata": {},
     "output_type": "execute_result"
    }
   ],
   "source": [
    "freesing_f"
   ]
  },
  {
   "cell_type": "code",
   "execution_count": 8,
   "id": "bd1c95a7",
   "metadata": {},
   "outputs": [],
   "source": [
    "def divide(dividend, divisor):\n",
    "    output = dividend /divisor\n",
    "    return output\n"
   ]
  },
  {
   "cell_type": "code",
   "execution_count": 11,
   "id": "7babcf5e",
   "metadata": {},
   "outputs": [
    {
     "data": {
      "text/plain": [
       "0.0"
      ]
     },
     "execution_count": 11,
     "metadata": {},
     "output_type": "execute_result"
    }
   ],
   "source": [
    "divide(0, 2)"
   ]
  },
  {
   "cell_type": "code",
   "execution_count": 14,
   "id": "912c2ce0",
   "metadata": {},
   "outputs": [
    {
     "ename": "ZeroDivisionError",
     "evalue": "division by zero",
     "output_type": "error",
     "traceback": [
      "\u001b[0;31m---------------------------------------------------------------------------\u001b[0m",
      "\u001b[0;31mZeroDivisionError\u001b[0m                         Traceback (most recent call last)",
      "Cell \u001b[0;32mIn[14], line 1\u001b[0m\n\u001b[0;32m----> 1\u001b[0m \u001b[43mdivide\u001b[49m\u001b[43m(\u001b[49m\u001b[38;5;241;43m2\u001b[39;49m\u001b[43m,\u001b[49m\u001b[43m \u001b[49m\u001b[38;5;241;43m0\u001b[39;49m\u001b[43m)\u001b[49m\n",
      "Cell \u001b[0;32mIn[8], line 2\u001b[0m, in \u001b[0;36mdivide\u001b[0;34m(dividend, divisor)\u001b[0m\n\u001b[1;32m      1\u001b[0m \u001b[38;5;28;01mdef\u001b[39;00m\u001b[38;5;250m \u001b[39m\u001b[38;5;21mdivide\u001b[39m(dividend, divisor):\n\u001b[0;32m----> 2\u001b[0m     output \u001b[38;5;241m=\u001b[39m \u001b[43mdividend\u001b[49m\u001b[43m \u001b[49m\u001b[38;5;241;43m/\u001b[39;49m\u001b[43mdivisor\u001b[49m\n\u001b[1;32m      3\u001b[0m     \u001b[38;5;28;01mreturn\u001b[39;00m output\n",
      "\u001b[0;31mZeroDivisionError\u001b[0m: division by zero"
     ]
    }
   ],
   "source": [
    "divide(2, 0)"
   ]
  },
  {
   "cell_type": "code",
   "execution_count": 25,
   "id": "ae546229",
   "metadata": {},
   "outputs": [],
   "source": [
    "def calc_sales_tax(price, tax_rate=0.13):\n",
    "    tax_amt = price * tax_rate\n",
    "    return tax_amt"
   ]
  },
  {
   "cell_type": "code",
   "execution_count": 27,
   "id": "16fe1d4a",
   "metadata": {},
   "outputs": [
    {
     "data": {
      "text/plain": [
       "0.65"
      ]
     },
     "execution_count": 27,
     "metadata": {},
     "output_type": "execute_result"
    }
   ],
   "source": [
    "calc_sales_tax(5)"
   ]
  },
  {
   "cell_type": "code",
   "execution_count": 30,
   "id": "0c290e03",
   "metadata": {},
   "outputs": [],
   "source": [
    "def cal_total_bill(price, tax_rate=0.13, tip_rate=0.15):\n",
    "    tax_amt = price * tax_rate\n",
    "    tip_amt = price * tip_rate\n",
    "    total_price = price + tax_amt + tip_amt\n",
    "    return total_price"
   ]
  },
  {
   "cell_type": "code",
   "execution_count": 32,
   "id": "ff674b7a",
   "metadata": {},
   "outputs": [
    {
     "data": {
      "text/plain": [
       "128.0"
      ]
     },
     "execution_count": 32,
     "metadata": {},
     "output_type": "execute_result"
    }
   ],
   "source": [
    "cal_total_bill(100)"
   ]
  },
  {
   "cell_type": "code",
   "execution_count": 35,
   "id": "2470a937",
   "metadata": {},
   "outputs": [
    {
     "data": {
      "text/plain": [
       "133.0"
      ]
     },
     "execution_count": 35,
     "metadata": {},
     "output_type": "execute_result"
    }
   ],
   "source": [
    "cal_total_bill(100, 0.18)"
   ]
  },
  {
   "cell_type": "code",
   "execution_count": 37,
   "id": "50bb579c",
   "metadata": {},
   "outputs": [
    {
     "data": {
      "text/plain": [
       "131.0"
      ]
     },
     "execution_count": 37,
     "metadata": {},
     "output_type": "execute_result"
    }
   ],
   "source": [
    "cal_total_bill(100, tip_rate = 0.18)"
   ]
  },
  {
   "cell_type": "code",
   "execution_count": 38,
   "id": "cc1dce40",
   "metadata": {},
   "outputs": [],
   "source": [
    "def c_to_f(degrees_c):\n",
    "    '''Convert degrees from Celsius to Fahrenheit'''\n",
    "    degrees_f = (9/5) * degrees_c +32\n",
    "    return degrees_f"
   ]
  },
  {
   "cell_type": "code",
   "execution_count": 40,
   "id": "25787697",
   "metadata": {},
   "outputs": [],
   "source": [
    "# String is Python's text data type\n",
    "# Sequences of characters, including digits and symbols\n",
    "# surrounded by quotation makrs (iether single or double)"
   ]
  },
  {
   "cell_type": "code",
   "execution_count": 42,
   "id": "9733d908",
   "metadata": {},
   "outputs": [
    {
     "data": {
      "text/plain": [
       "'This is a string'"
      ]
     },
     "execution_count": 42,
     "metadata": {},
     "output_type": "execute_result"
    }
   ],
   "source": [
    "'This is a string'"
   ]
  },
  {
   "cell_type": "code",
   "execution_count": 43,
   "id": "bf613e7f",
   "metadata": {},
   "outputs": [
    {
     "data": {
      "text/plain": [
       "'This is also a string'"
      ]
     },
     "execution_count": 43,
     "metadata": {},
     "output_type": "execute_result"
    }
   ],
   "source": [
    "\"This is also a string\""
   ]
  },
  {
   "cell_type": "code",
   "execution_count": 44,
   "id": "341e88c5",
   "metadata": {},
   "outputs": [
    {
     "ename": "SyntaxError",
     "evalue": "EOL while scanning string literal (844737843.py, line 1)",
     "output_type": "error",
     "traceback": [
      "\u001b[0;36m  Cell \u001b[0;32mIn[44], line 1\u001b[0;36m\u001b[0m\n\u001b[0;31m    \"These quotes do not match'\u001b[0m\n\u001b[0m                               ^\u001b[0m\n\u001b[0;31mSyntaxError\u001b[0m\u001b[0;31m:\u001b[0m EOL while scanning string literal\n"
     ]
    }
   ],
   "source": [
    "\"These quotes do not match'"
   ]
  },
  {
   "cell_type": "code",
   "execution_count": 45,
   "id": "79015f05",
   "metadata": {},
   "outputs": [
    {
     "name": "stdout",
     "output_type": "stream",
     "text": [
      "And\tor\n"
     ]
    }
   ],
   "source": [
    "print('And\\tor')"
   ]
  },
  {
   "cell_type": "code",
   "execution_count": 46,
   "id": "d58eeb6c",
   "metadata": {},
   "outputs": [
    {
     "name": "stdout",
     "output_type": "stream",
     "text": [
      "30thy is April \n"
     ]
    }
   ],
   "source": [
    "print(\"Today is April \\r30th\")"
   ]
  },
  {
   "cell_type": "markdown",
   "id": "460861f7",
   "metadata": {},
   "source": [
    "'hello' + 'world'"
   ]
  },
  {
   "cell_type": "code",
   "execution_count": 50,
   "id": "5ce54068",
   "metadata": {},
   "outputs": [
    {
     "data": {
      "text/plain": [
       "'hello world'"
      ]
     },
     "execution_count": 50,
     "metadata": {},
     "output_type": "execute_result"
    }
   ],
   "source": [
    "'hello' + ' ' + 'world'"
   ]
  },
  {
   "cell_type": "code",
   "execution_count": 52,
   "id": "ac98c14f",
   "metadata": {},
   "outputs": [
    {
     "data": {
      "text/plain": [
       "'hahaha'"
      ]
     },
     "execution_count": 52,
     "metadata": {},
     "output_type": "execute_result"
    }
   ],
   "source": [
    "'ha' * 3"
   ]
  },
  {
   "cell_type": "code",
   "execution_count": 58,
   "id": "42a9e7bc",
   "metadata": {},
   "outputs": [
    {
     "data": {
      "text/plain": [
       "'The year is 2025'"
      ]
     },
     "execution_count": 58,
     "metadata": {},
     "output_type": "execute_result"
    }
   ],
   "source": [
    "'The year is' + ' ' + '2025'"
   ]
  },
  {
   "cell_type": "code",
   "execution_count": 59,
   "id": "ce99d9b6",
   "metadata": {},
   "outputs": [
    {
     "data": {
      "text/plain": [
       "True"
      ]
     },
     "execution_count": 59,
     "metadata": {},
     "output_type": "execute_result"
    }
   ],
   "source": [
    "3 == 3"
   ]
  },
  {
   "cell_type": "code",
   "execution_count": null,
   "metadata": {},
   "outputs": [
    {
     "data": {
      "text/plain": [
       "True"
      ]
     },
     "execution_count": 60,
     "metadata": {},
     "output_type": "execute_result"
    }
   ],
   "source": [
    "'apple' == 'apple''"
   ]
  },
  {
   "cell_type": "code",
   "execution_count": 62,
   "metadata": {},
   "outputs": [
    {
     "data": {
      "text/plain": [
       "False"
      ]
     },
     "execution_count": 62,
     "metadata": {},
     "output_type": "execute_result"
    }
   ],
   "source": [
    "'Apple' == \"aple\""
   ]
  },
  {
   "cell_type": "code",
   "execution_count": 64,
   "id": "d31d97ea",
   "metadata": {},
   "outputs": [
    {
     "data": {
      "text/plain": [
       "False"
      ]
     },
     "execution_count": 64,
     "metadata": {},
     "output_type": "execute_result"
    }
   ],
   "source": [
    "'20' == 20"
   ]
  },
  {
   "cell_type": "code",
   "execution_count": 73,
   "id": "caf36a41",
   "metadata": {},
   "outputs": [],
   "source": [
    "first_name = \"Ada\"\n",
    "last_name =  \"Lovelace\""
   ]
  },
  {
   "cell_type": "code",
   "execution_count": 71,
   "id": "021e43a1",
   "metadata": {},
   "outputs": [
    {
     "data": {
      "text/plain": [
       "'a'"
      ]
     },
     "execution_count": 71,
     "metadata": {},
     "output_type": "execute_result"
    }
   ],
   "source": [
    "first_name[2]"
   ]
  },
  {
   "cell_type": "code",
   "execution_count": 76,
   "id": "9583e605",
   "metadata": {},
   "outputs": [
    {
     "data": {
      "text/plain": [
       "'l'"
      ]
     },
     "execution_count": 76,
     "metadata": {},
     "output_type": "execute_result"
    }
   ],
   "source": [
    "last_name[4]"
   ]
  },
  {
   "cell_type": "code",
   "execution_count": 80,
   "id": "7a42b1e4",
   "metadata": {},
   "outputs": [
    {
     "data": {
      "text/plain": [
       "'la'"
      ]
     },
     "execution_count": 80,
     "metadata": {},
     "output_type": "execute_result"
    }
   ],
   "source": [
    "last_name[4:6]"
   ]
  },
  {
   "cell_type": "code",
   "execution_count": 82,
   "id": "8f911a8d",
   "metadata": {},
   "outputs": [
    {
     "data": {
      "text/plain": [
       "'Lovel'"
      ]
     },
     "execution_count": 82,
     "metadata": {},
     "output_type": "execute_result"
    }
   ],
   "source": [
    "last_name[:5]"
   ]
  },
  {
   "cell_type": "code",
   "execution_count": 84,
   "id": "78563039",
   "metadata": {},
   "outputs": [
    {
     "data": {
      "text/plain": [
       "'velace'"
      ]
     },
     "execution_count": 84,
     "metadata": {},
     "output_type": "execute_result"
    }
   ],
   "source": [
    "last_name[2:]"
   ]
  },
  {
   "cell_type": "code",
   "execution_count": 87,
   "id": "635787e6",
   "metadata": {},
   "outputs": [
    {
     "name": "stdout",
     "output_type": "stream",
     "text": [
      "o a\n"
     ]
    }
   ],
   "source": [
    "print(last_name[1], last_name[5])"
   ]
  },
  {
   "cell_type": "code",
   "execution_count": 89,
   "id": "85fb9162",
   "metadata": {},
   "outputs": [
    {
     "name": "stdout",
     "output_type": "stream",
     "text": [
      "1 fish 2 fish\n"
     ]
    }
   ],
   "source": [
    "print(1, 'fish', 2, 'fish')"
   ]
  },
  {
   "cell_type": "code",
   "execution_count": 93,
   "id": "82a510ce",
   "metadata": {},
   "outputs": [
    {
     "data": {
      "text/plain": [
       "21"
      ]
     },
     "execution_count": 93,
     "metadata": {},
     "output_type": "execute_result"
    }
   ],
   "source": [
    "len('this is a loooooooong')"
   ]
  },
  {
   "cell_type": "code",
   "execution_count": 95,
   "id": "af65aada",
   "metadata": {},
   "outputs": [
    {
     "name": "stdout",
     "output_type": "stream",
     "text": [
      "Help on built-in function len in module builtins:\n",
      "\n",
      "len(obj, /)\n",
      "    Return the number of items in a container.\n",
      "\n"
     ]
    }
   ],
   "source": [
    "help(len)"
   ]
  },
  {
   "cell_type": "code",
   "execution_count": 98,
   "id": "cbe1b7fe",
   "metadata": {},
   "outputs": [
    {
     "data": {
      "text/plain": [
       "'I AM NOT YELLING'"
      ]
     },
     "execution_count": 98,
     "metadata": {},
     "output_type": "execute_result"
    }
   ],
   "source": [
    "'I am not yelling'.upper()"
   ]
  },
  {
   "cell_type": "code",
   "execution_count": 101,
   "id": "5cee0f33",
   "metadata": {},
   "outputs": [
    {
     "data": {
      "text/plain": [
       "0"
      ]
     },
     "execution_count": 101,
     "metadata": {},
     "output_type": "execute_result"
    }
   ],
   "source": [
    "'This string is unsuall'.count('e')"
   ]
  },
  {
   "cell_type": "code",
   "execution_count": 103,
   "id": "29d6b65f",
   "metadata": {},
   "outputs": [
    {
     "data": {
      "text/plain": [
       "True"
      ]
     },
     "execution_count": 103,
     "metadata": {},
     "output_type": "execute_result"
    }
   ],
   "source": [
    "'file_name.csv'.endswith('.csv')"
   ]
  },
  {
   "cell_type": "code",
   "execution_count": 106,
   "id": "d8b9e8fa",
   "metadata": {},
   "outputs": [
    {
     "data": {
      "text/plain": [
       "'file_name_with_spaces.scv'"
      ]
     },
     "execution_count": 106,
     "metadata": {},
     "output_type": "execute_result"
    }
   ],
   "source": [
    "'file name with spaces.scv'.replace(' ', '_') "
   ]
  },
  {
   "cell_type": "code",
   "execution_count": 108,
   "id": "27242c8d",
   "metadata": {},
   "outputs": [
    {
     "data": {
      "text/plain": [
       "['a', 'a', 'a', 'b', 'n', 'n']"
      ]
     },
     "execution_count": 108,
     "metadata": {},
     "output_type": "execute_result"
    }
   ],
   "source": [
    "fruit = 'banana'\n",
    "\n",
    "sorted(fruit)"
   ]
  },
  {
   "cell_type": "code",
   "execution_count": 110,
   "id": "651dbe53",
   "metadata": {},
   "outputs": [
    {
     "data": {
      "text/plain": [
       "['A', 'a']"
      ]
     },
     "execution_count": 110,
     "metadata": {},
     "output_type": "execute_result"
    }
   ],
   "source": [
    "fruit = 'Aa'\n",
    "\n",
    "sorted(fruit)"
   ]
  },
  {
   "cell_type": "code",
   "execution_count": 114,
   "id": "a465dcca",
   "metadata": {},
   "outputs": [
    {
     "data": {
      "text/plain": [
       "\"Ada Lovelace's initials are A. L.\""
      ]
     },
     "execution_count": 114,
     "metadata": {},
     "output_type": "execute_result"
    }
   ],
   "source": [
    "first_name = 'Ada'\n",
    "last_name = \"Lovelace\"\n",
    "\n",
    "'Ada Lovelace\\'s initials are {}. {}.'.format(first_name[0], last_name[0])"
   ]
  },
  {
   "cell_type": "code",
   "execution_count": null,
   "id": "9702814c",
   "metadata": {},
   "outputs": [
    {
     "data": {
      "text/plain": [
       "'My favorite seasons are spring and winter'"
      ]
     },
     "execution_count": 127,
     "metadata": {},
     "output_type": "execute_result"
    }
   ],
   "source": [
    "'My favorite seasons are {} and {}'.format('spring', 'winter')"
   ]
  },
  {
   "cell_type": "code",
   "execution_count": 129,
   "id": "305907d6",
   "metadata": {},
   "outputs": [
    {
     "data": {
      "text/plain": [
       "'Ada'"
      ]
     },
     "execution_count": 129,
     "metadata": {},
     "output_type": "execute_result"
    }
   ],
   "source": [
    "first_name"
   ]
  },
  {
   "cell_type": "code",
   "execution_count": 131,
   "id": "ecb3c89b",
   "metadata": {},
   "outputs": [
    {
     "data": {
      "text/plain": [
       "\"Ada Lovelace 's initial is A\""
      ]
     },
     "execution_count": 131,
     "metadata": {},
     "output_type": "execute_result"
    }
   ],
   "source": [
    "f'Ada Lovelace \\'s initial is {first_name[0]}'"
   ]
  },
  {
   "cell_type": "code",
   "execution_count": 124,
   "id": "2b5baed7",
   "metadata": {},
   "outputs": [
    {
     "data": {
      "text/plain": [
       "'My favorite fruit and veg are banana and beans, respetively.'"
      ]
     },
     "execution_count": 124,
     "metadata": {},
     "output_type": "execute_result"
    }
   ],
   "source": [
    "fruit = 'banana'\n",
    "vegentable = 'beans'\n",
    "\n",
    "\"My favorite fruit and veg are {} and {}, respetively.\".format(fruit, vegentable)"
   ]
  },
  {
   "cell_type": "code",
   "execution_count": 135,
   "id": "7581c0c3",
   "metadata": {},
   "outputs": [
    {
     "data": {
      "text/plain": [
       "'My favorite seasons is summer'"
      ]
     },
     "execution_count": 135,
     "metadata": {},
     "output_type": "execute_result"
    }
   ],
   "source": [
    "season = 'summer'\n",
    "f'My favorite seasons is {season}'"
   ]
  },
  {
   "cell_type": "code",
   "execution_count": null,
   "id": "405d40a5",
   "metadata": {},
   "outputs": [
    {
     "data": {
      "text/plain": [
       "17"
      ]
     },
     "execution_count": 137,
     "metadata": {},
     "output_type": "execute_result"
    }
   ],
   "source": [
    "# string to integer\n",
    "\n",
    "# int() function only convert strings that represent whole numbers into integers.\n",
    "int('17')"
   ]
  },
  {
   "cell_type": "code",
   "execution_count": 140,
   "id": "db6bf4b5",
   "metadata": {},
   "outputs": [
    {
     "ename": "ValueError",
     "evalue": "invalid literal for int() with base 10: '178.4'",
     "output_type": "error",
     "traceback": [
      "\u001b[0;31m---------------------------------------------------------------------------\u001b[0m",
      "\u001b[0;31mValueError\u001b[0m                                Traceback (most recent call last)",
      "Cell \u001b[0;32mIn[140], line 1\u001b[0m\n\u001b[0;32m----> 1\u001b[0m \u001b[38;5;28;43mint\u001b[39;49m\u001b[43m(\u001b[49m\u001b[38;5;124;43m'\u001b[39;49m\u001b[38;5;124;43m178.4\u001b[39;49m\u001b[38;5;124;43m'\u001b[39;49m\u001b[43m)\u001b[49m\n",
      "\u001b[0;31mValueError\u001b[0m: invalid literal for int() with base 10: '178.4'"
     ]
    }
   ],
   "source": [
    "int('178.4')"
   ]
  },
  {
   "cell_type": "code",
   "execution_count": 142,
   "id": "1226a9b6",
   "metadata": {},
   "outputs": [
    {
     "data": {
      "text/plain": [
       "892.0"
      ]
     },
     "execution_count": 142,
     "metadata": {},
     "output_type": "execute_result"
    }
   ],
   "source": [
    "#string to float\n",
    "\n",
    "float('892')\n"
   ]
  },
  {
   "cell_type": "code",
   "execution_count": 145,
   "id": "51ef22ce",
   "metadata": {},
   "outputs": [
    {
     "data": {
      "text/plain": [
       "'37.5'"
      ]
     },
     "execution_count": 145,
     "metadata": {},
     "output_type": "execute_result"
    }
   ],
   "source": [
    "#float and int into string\n",
    "\n",
    "str(37.5)\n"
   ]
  },
  {
   "cell_type": "code",
   "execution_count": 147,
   "id": "c067f187",
   "metadata": {},
   "outputs": [
    {
     "data": {
      "text/plain": [
       "'20'"
      ]
     },
     "execution_count": 147,
     "metadata": {},
     "output_type": "execute_result"
    }
   ],
   "source": [
    "str(20)\n"
   ]
  },
  {
   "cell_type": "code",
   "execution_count": 149,
   "id": "d5005806",
   "metadata": {},
   "outputs": [
    {
     "data": {
      "text/plain": [
       "'2037.5'"
      ]
     },
     "execution_count": 149,
     "metadata": {},
     "output_type": "execute_result"
    }
   ],
   "source": [
    "'20' +str(37.5)"
   ]
  },
  {
   "cell_type": "code",
   "execution_count": 152,
   "id": "b91f325a",
   "metadata": {},
   "outputs": [
    {
     "data": {
      "text/plain": [
       "True"
      ]
     },
     "execution_count": 152,
     "metadata": {},
     "output_type": "execute_result"
    }
   ],
   "source": [
    "(7 == 7.0) and (32> 9)"
   ]
  },
  {
   "cell_type": "code",
   "execution_count": 155,
   "id": "a97555c9",
   "metadata": {},
   "outputs": [
    {
     "data": {
      "text/plain": [
       "True"
      ]
     },
     "execution_count": 155,
     "metadata": {},
     "output_type": "execute_result"
    }
   ],
   "source": [
    "is_summer =  True\n",
    "is_sunny = True\n",
    "is_summer and is_sunny"
   ]
  },
  {
   "cell_type": "code",
   "execution_count": 156,
   "id": "ad81a37b",
   "metadata": {},
   "outputs": [
    {
     "data": {
      "text/plain": [
       "True"
      ]
     },
     "execution_count": 156,
     "metadata": {},
     "output_type": "execute_result"
    }
   ],
   "source": [
    "is_winter = \"True\" # string with the value \"True\"\n",
    "is_cloudy = True # boolean with the value true\n",
    "is_winter and is_cloudy"
   ]
  },
  {
   "cell_type": "code",
   "execution_count": 159,
   "id": "be133dab",
   "metadata": {},
   "outputs": [
    {
     "data": {
      "text/plain": [
       "'True'"
      ]
     },
     "execution_count": 159,
     "metadata": {},
     "output_type": "execute_result"
    }
   ],
   "source": [
    "is_cloudy and is_winter"
   ]
  },
  {
   "cell_type": "code",
   "execution_count": 161,
   "id": "f56b3e69",
   "metadata": {},
   "outputs": [
    {
     "data": {
      "text/plain": [
       "'python'"
      ]
     },
     "execution_count": 161,
     "metadata": {},
     "output_type": "execute_result"
    }
   ],
   "source": [
    "\"Python\" and \"python\""
   ]
  },
  {
   "cell_type": "code",
   "execution_count": 163,
   "id": "93ce8a26",
   "metadata": {},
   "outputs": [
    {
     "data": {
      "text/plain": [
       "False"
      ]
     },
     "execution_count": 163,
     "metadata": {},
     "output_type": "execute_result"
    }
   ],
   "source": [
    "False and \"non-empty string\""
   ]
  },
  {
   "cell_type": "code",
   "execution_count": 165,
   "id": "820a7f13",
   "metadata": {},
   "outputs": [
    {
     "data": {
      "text/plain": [
       "True"
      ]
     },
     "execution_count": 165,
     "metadata": {},
     "output_type": "execute_result"
    }
   ],
   "source": [
    "'Python' == 'python' or True"
   ]
  },
  {
   "cell_type": "code",
   "execution_count": 167,
   "id": "faea2bf9",
   "metadata": {},
   "outputs": [
    {
     "data": {
      "text/plain": [
       "False"
      ]
     },
     "execution_count": 167,
     "metadata": {},
     "output_type": "execute_result"
    }
   ],
   "source": [
    "'Python' == 'python'"
   ]
  },
  {
   "cell_type": "code",
   "execution_count": 170,
   "id": "b27f4f08",
   "metadata": {},
   "outputs": [
    {
     "data": {
      "text/plain": [
       "False"
      ]
     },
     "execution_count": 170,
     "metadata": {},
     "output_type": "execute_result"
    }
   ],
   "source": [
    "not (7 % 2 == 1) or False"
   ]
  },
  {
   "cell_type": "code",
   "execution_count": 174,
   "id": "cba23edb",
   "metadata": {},
   "outputs": [
    {
     "data": {
      "text/plain": [
       "'True'"
      ]
     },
     "execution_count": 174,
     "metadata": {},
     "output_type": "execute_result"
    }
   ],
   "source": [
    "is_winter = \"True\"\n",
    "is_cloudy = True\n",
    "\n",
    "is_winter or is_cloudy"
   ]
  },
  {
   "cell_type": "code",
   "execution_count": 177,
   "id": "7ce3f2a6",
   "metadata": {},
   "outputs": [
    {
     "name": "stdout",
     "output_type": "stream",
     "text": [
      "We are in the 21st centry.\n"
     ]
    }
   ],
   "source": [
    "year = 2022\n",
    "\n",
    "if year >= 2000:\n",
    "    print('We are in the 21st centry.')"
   ]
  },
  {
   "cell_type": "code",
   "execution_count": 179,
   "id": "9ab1b1e0",
   "metadata": {},
   "outputs": [
    {
     "name": "stdout",
     "output_type": "stream",
     "text": [
      "We are not in the 21st centry.\n"
     ]
    }
   ],
   "source": [
    "year = 1999\n",
    "if year >= 2000:\n",
    "    print('We are in the 21st century.')\n",
    "else:\n",
    "    print('We are not in the 21st centry.')"
   ]
  },
  {
   "cell_type": "code",
   "execution_count": 187,
   "id": "4fcf18b7",
   "metadata": {},
   "outputs": [
    {
     "name": "stdout",
     "output_type": "stream",
     "text": [
      "We are in the 21st century.\n"
     ]
    }
   ],
   "source": [
    "year = 2025\n",
    "\n",
    "if year >= 2000:\n",
    "    print('We are in the 21st century.')\n",
    "elif year >= 1900:\n",
    "    print('We are in the 20th centry.')\n",
    "elif year >= 1800:\n",
    "    print('We are in the 19st centry.')\n",
    "else:\n",
    "    print('We have gone way back in time')"
   ]
  },
  {
   "cell_type": "code",
   "execution_count": 193,
   "id": "95153d1a",
   "metadata": {},
   "outputs": [
    {
     "name": "stdout",
     "output_type": "stream",
     "text": [
      "Weekend\n"
     ]
    }
   ],
   "source": [
    "day_of_week = \"Saturday\"\n",
    "\n",
    "if day_of_week == 'Saturday' or day_of_week == 'Sunday':\n",
    "    print('Weekend')\n",
    "else: \n",
    "    print('Weekday')"
   ]
  },
  {
   "cell_type": "code",
   "execution_count": 221,
   "id": "cae5eeee",
   "metadata": {},
   "outputs": [],
   "source": [
    "def eye_exam_covered(age, qualifying_condition, time_since_last_exam):\n",
    "    '''qualifying_condition is True/False on whether you have an eligible medical condition'''\n",
    "    if age <= 19:\n",
    "        if time_since_last_exam >= 12:\n",
    "            return \"you are eligible for 1 major eye exam and any minor assessments.\"\n",
    "        else:\n",
    "            return \"it hasn't been 12 months since your last major eye exam.\"\n",
    "    elif 20 <= age <= 64:\n",
    "        if qualifying_condition:\n",
    "            if time_since_last_exam >= 12:\n",
    "                return \"you are eligible for 1 major eye exam & 2 follow-up minor assessments\"\n",
    "            else:\n",
    "                return \"it hasn't been 12 months since your last major eye exam\"\n",
    "        else:\n",
    "            return \"you do not have an eligible medical condition\"\n",
    "    elif age <= 65:\n",
    "        if time_since_last_exam >= 18:\n",
    "            return \"you are eligible for 1 major eye exam and 2 follow-up minor assessments\"\n",
    "        else:\n",
    "            return \"it hasn't been 18 months since your last major eye exam\"\n",
    "    else:\n",
    "        return \"invalid age input\""
   ]
  },
  {
   "cell_type": "code",
   "execution_count": 223,
   "id": "a32d3a8d",
   "metadata": {},
   "outputs": [],
   "source": [
    "def eye_exam_covered(age, qualifying_condition, time_since_last_exam):\n",
    "    '''qualifying_condition is True/False on whether you have an eligible medical condition'''\n",
    "    if age <= 19:\n",
    "        if time_since_last_exam >= 12:\n",
    "            return \"you are eligible for 1 major eye exam and any minor assessments.\"\n",
    "        else:\n",
    "            return \"it hasn't been 12 months since your last major eye exam.\"\n",
    "    elif 20 <= age <= 64:\n",
    "        if qualifying_condition:\n",
    "            if time_since_last_exam >= 12:\n",
    "                return \"you are eligible for 1 major eye exam & 2 follow-up minor assessments\"\n",
    "            else:\n",
    "                return \"it hasn't been 12 months since your last major eye exam\"\n",
    "        else:\n",
    "            return \"you do not have an eligible medical condition\"\n",
    "    elif age <= 65:\n",
    "        if time_since_last_exam >= 18:\n",
    "            return \"you are eligible for 1 major eye exam and 2 follow-up minor assessments\"\n",
    "        else:\n",
    "            return \"it hasn't been 18 months since your last major eye exam\"\n",
    "    else:\n",
    "        return \"invalid age input\""
   ]
  },
  {
   "cell_type": "code",
   "execution_count": 224,
   "id": "14e41504",
   "metadata": {},
   "outputs": [
    {
     "data": {
      "text/plain": [
       "'you are eligible for 1 major eye exam & 2 follow-up minor assessments'"
      ]
     },
     "execution_count": 224,
     "metadata": {},
     "output_type": "execute_result"
    }
   ],
   "source": [
    "eye_exam_covered(27, True, 15)"
   ]
  },
  {
   "cell_type": "code",
   "execution_count": 226,
   "id": "0588e46e",
   "metadata": {},
   "outputs": [
    {
     "data": {
      "text/plain": [
       "'you do not have an eligible medical condition'"
      ]
     },
     "execution_count": 226,
     "metadata": {},
     "output_type": "execute_result"
    }
   ],
   "source": [
    "eye_exam_covered(20, False, 11)"
   ]
  },
  {
   "cell_type": "code",
   "execution_count": 231,
   "id": "955d7e24",
   "metadata": {},
   "outputs": [
    {
     "data": {
      "text/plain": [
       "['a', 'e', 'i', 'o', 'u']"
      ]
     },
     "execution_count": 231,
     "metadata": {},
     "output_type": "execute_result"
    }
   ],
   "source": [
    "vowels = ['a', 'e', 'i', 'o', 'u']\n",
    "vowels"
   ]
  },
  {
   "cell_type": "code",
   "execution_count": 233,
   "id": "65c93f2f",
   "metadata": {},
   "outputs": [
    {
     "data": {
      "text/plain": [
       "list"
      ]
     },
     "execution_count": 233,
     "metadata": {},
     "output_type": "execute_result"
    }
   ],
   "source": [
    "emply_list = []\n",
    "type(emply_list)"
   ]
  },
  {
   "cell_type": "code",
   "execution_count": 235,
   "id": "aa846cee",
   "metadata": {},
   "outputs": [],
   "source": [
    "emply_list2 = list()"
   ]
  },
  {
   "cell_type": "code",
   "execution_count": 237,
   "id": "6b517443",
   "metadata": {},
   "outputs": [],
   "source": [
    "scores = [90, 80, 70, 70]\n",
    "grades = ['K', 1, 2, 3, 4, 5]\n",
    "summary_functions = [len, sum, max, min]"
   ]
  },
  {
   "cell_type": "code",
   "execution_count": 240,
   "id": "25d7d4b3",
   "metadata": {},
   "outputs": [],
   "source": [
    "mystery_solvers = [\n",
    "    ['Sherlock', 'Watson'],\n",
    "    ['Scooby', 'Shaggy', 'Fred'],\n",
    "    'Nancy'\n",
    "]"
   ]
  },
  {
   "cell_type": "code",
   "execution_count": 244,
   "id": "02d11b42",
   "metadata": {},
   "outputs": [
    {
     "data": {
      "text/plain": [
       "'K'"
      ]
     },
     "execution_count": 244,
     "metadata": {},
     "output_type": "execute_result"
    }
   ],
   "source": [
    "grades [0]"
   ]
  },
  {
   "cell_type": "code",
   "execution_count": 247,
   "id": "1b0a03a8",
   "metadata": {},
   "outputs": [
    {
     "data": {
      "text/plain": [
       "[1, 2, 3, 4]"
      ]
     },
     "execution_count": 247,
     "metadata": {},
     "output_type": "execute_result"
    }
   ],
   "source": [
    "grades [1:5]"
   ]
  },
  {
   "cell_type": "code",
   "execution_count": 250,
   "id": "d7828c4e",
   "metadata": {},
   "outputs": [
    {
     "data": {
      "text/plain": [
       "[2, 3, 4, 5]"
      ]
     },
     "execution_count": 250,
     "metadata": {},
     "output_type": "execute_result"
    }
   ],
   "source": [
    "grades [-4:]"
   ]
  },
  {
   "cell_type": "code",
   "execution_count": 252,
   "id": "63f964ac",
   "metadata": {},
   "outputs": [
    {
     "data": {
      "text/plain": [
       "[1, 2, 3, 4, 5]"
      ]
     },
     "execution_count": 252,
     "metadata": {},
     "output_type": "execute_result"
    }
   ],
   "source": [
    "grades [1:6]"
   ]
  },
  {
   "cell_type": "code",
   "execution_count": 254,
   "id": "026d4380",
   "metadata": {},
   "outputs": [
    {
     "ename": "IndexError",
     "evalue": "list index out of range",
     "output_type": "error",
     "traceback": [
      "\u001b[0;31m---------------------------------------------------------------------------\u001b[0m",
      "\u001b[0;31mIndexError\u001b[0m                                Traceback (most recent call last)",
      "Cell \u001b[0;32mIn[254], line 1\u001b[0m\n\u001b[0;32m----> 1\u001b[0m \u001b[43mgrades\u001b[49m\u001b[43m \u001b[49m\u001b[43m[\u001b[49m\u001b[38;5;241;43m10\u001b[39;49m\u001b[43m]\u001b[49m\n",
      "\u001b[0;31mIndexError\u001b[0m: list index out of range"
     ]
    }
   ],
   "source": [
    "grades [10]"
   ]
  },
  {
   "cell_type": "code",
   "execution_count": 256,
   "id": "d392332d",
   "metadata": {},
   "outputs": [
    {
     "data": {
      "text/plain": [
       "False"
      ]
     },
     "execution_count": 256,
     "metadata": {},
     "output_type": "execute_result"
    }
   ],
   "source": [
    "'Hiro' in 'James loves coffee'"
   ]
  },
  {
   "cell_type": "code",
   "execution_count": 258,
   "id": "9f7bfb12",
   "metadata": {},
   "outputs": [
    {
     "data": {
      "text/plain": [
       "['a', 'e', 'i', 'o', 'u']"
      ]
     },
     "execution_count": 258,
     "metadata": {},
     "output_type": "execute_result"
    }
   ],
   "source": [
    "vowels"
   ]
  },
  {
   "cell_type": "code",
   "execution_count": 262,
   "id": "806fbd36",
   "metadata": {},
   "outputs": [
    {
     "data": {
      "text/plain": [
       "False"
      ]
     },
     "execution_count": 262,
     "metadata": {},
     "output_type": "execute_result"
    }
   ],
   "source": [
    "'K' in vowels"
   ]
  },
  {
   "cell_type": "code",
   "execution_count": 264,
   "id": "7399a4ae",
   "metadata": {},
   "outputs": [
    {
     "data": {
      "text/plain": [
       "[['Sherlock', 'Watson'], ['Scooby', 'Shaggy', 'Fred'], 'Nancy']"
      ]
     },
     "execution_count": 264,
     "metadata": {},
     "output_type": "execute_result"
    }
   ],
   "source": [
    "mystery_solvers"
   ]
  },
  {
   "cell_type": "code",
   "execution_count": 266,
   "id": "09c1975c",
   "metadata": {},
   "outputs": [
    {
     "data": {
      "text/plain": [
       "['Sherlock', 'Watson']"
      ]
     },
     "execution_count": 266,
     "metadata": {},
     "output_type": "execute_result"
    }
   ],
   "source": [
    "mystery_solvers[0]"
   ]
  },
  {
   "cell_type": "code",
   "execution_count": 269,
   "id": "048e2528",
   "metadata": {},
   "outputs": [
    {
     "data": {
      "text/plain": [
       "'Sherlock'"
      ]
     },
     "execution_count": 269,
     "metadata": {},
     "output_type": "execute_result"
    }
   ],
   "source": [
    "mystery_solvers[0][0]"
   ]
  },
  {
   "cell_type": "code",
   "execution_count": 272,
   "id": "0742e7d2",
   "metadata": {},
   "outputs": [
    {
     "data": {
      "text/plain": [
       "1"
      ]
     },
     "execution_count": 272,
     "metadata": {},
     "output_type": "execute_result"
    }
   ],
   "source": [
    "vowels.index('e')"
   ]
  },
  {
   "cell_type": "code",
   "execution_count": 275,
   "id": "78179af0",
   "metadata": {},
   "outputs": [
    {
     "data": {
      "text/plain": [
       "[1, 4, 9, 16, 25, 37, 49]"
      ]
     },
     "execution_count": 275,
     "metadata": {},
     "output_type": "execute_result"
    }
   ],
   "source": [
    "perfect_squares = [ 1, 4, 9, 16, 25, 37, 49]\n",
    "perfect_squares"
   ]
  },
  {
   "cell_type": "code",
   "execution_count": 277,
   "id": "83b71536",
   "metadata": {},
   "outputs": [],
   "source": [
    "julia = 'cheese sandwich'\n",
    "Hiro = julia\n"
   ]
  },
  {
   "cell_type": "code",
   "execution_count": 279,
   "id": "e3d9f55a",
   "metadata": {},
   "outputs": [
    {
     "data": {
      "text/plain": [
       "'cheese sandwich'"
      ]
     },
     "execution_count": 279,
     "metadata": {},
     "output_type": "execute_result"
    }
   ],
   "source": [
    "julia"
   ]
  },
  {
   "cell_type": "code",
   "execution_count": 281,
   "id": "92616f24",
   "metadata": {},
   "outputs": [
    {
     "data": {
      "text/plain": [
       "'cheese sandwich'"
      ]
     },
     "execution_count": 281,
     "metadata": {},
     "output_type": "execute_result"
    }
   ],
   "source": [
    "Hiro"
   ]
  },
  {
   "cell_type": "code",
   "execution_count": 283,
   "id": "4abdb36d",
   "metadata": {},
   "outputs": [],
   "source": [
    "julia = 'ham sandwich'"
   ]
  },
  {
   "cell_type": "code",
   "execution_count": 285,
   "id": "e91899b7",
   "metadata": {},
   "outputs": [
    {
     "data": {
      "text/plain": [
       "'ham sandwich'"
      ]
     },
     "execution_count": 285,
     "metadata": {},
     "output_type": "execute_result"
    }
   ],
   "source": [
    "julia"
   ]
  },
  {
   "cell_type": "code",
   "execution_count": 287,
   "id": "5edaaa17",
   "metadata": {},
   "outputs": [
    {
     "data": {
      "text/plain": [
       "'cheese sandwich'"
      ]
     },
     "execution_count": 287,
     "metadata": {},
     "output_type": "execute_result"
    }
   ],
   "source": [
    "Hiro"
   ]
  },
  {
   "cell_type": "code",
   "execution_count": 289,
   "id": "b55d9fca",
   "metadata": {},
   "outputs": [],
   "source": [
    "julia_list = ['bread', 'cheese', 'bread']"
   ]
  },
  {
   "cell_type": "code",
   "execution_count": 291,
   "id": "5691500c",
   "metadata": {},
   "outputs": [],
   "source": [
    "Hiro_list = julia_list"
   ]
  },
  {
   "cell_type": "code",
   "execution_count": 293,
   "id": "76eb8ae5",
   "metadata": {},
   "outputs": [
    {
     "data": {
      "text/plain": [
       "['bread', 'cheese', 'bread']"
      ]
     },
     "execution_count": 293,
     "metadata": {},
     "output_type": "execute_result"
    }
   ],
   "source": [
    "julia_list"
   ]
  },
  {
   "cell_type": "code",
   "execution_count": 295,
   "id": "5bc0e243",
   "metadata": {},
   "outputs": [
    {
     "data": {
      "text/plain": [
       "['bread', 'cheese', 'bread']"
      ]
     },
     "execution_count": 295,
     "metadata": {},
     "output_type": "execute_result"
    }
   ],
   "source": [
    "Hiro_list"
   ]
  },
  {
   "cell_type": "code",
   "execution_count": 297,
   "id": "6aa2c07b",
   "metadata": {},
   "outputs": [],
   "source": [
    "julia_list[1] = 'ham'"
   ]
  },
  {
   "cell_type": "code",
   "execution_count": 299,
   "id": "268062e3",
   "metadata": {},
   "outputs": [
    {
     "data": {
      "text/plain": [
       "['bread', 'ham', 'bread']"
      ]
     },
     "execution_count": 299,
     "metadata": {},
     "output_type": "execute_result"
    }
   ],
   "source": [
    "julia_list"
   ]
  },
  {
   "cell_type": "code",
   "execution_count": 301,
   "id": "a932c703",
   "metadata": {},
   "outputs": [
    {
     "data": {
      "text/plain": [
       "['bread', 'ham', 'bread']"
      ]
     },
     "execution_count": 301,
     "metadata": {},
     "output_type": "execute_result"
    }
   ],
   "source": [
    "Hiro_list"
   ]
  },
  {
   "cell_type": "code",
   "execution_count": 303,
   "id": "4f7cea9a",
   "metadata": {},
   "outputs": [],
   "source": [
    "a = 1\n",
    "b = a "
   ]
  },
  {
   "cell_type": "code",
   "execution_count": 305,
   "id": "cac6a63d",
   "metadata": {},
   "outputs": [
    {
     "data": {
      "text/plain": [
       "1"
      ]
     },
     "execution_count": 305,
     "metadata": {},
     "output_type": "execute_result"
    }
   ],
   "source": [
    "a"
   ]
  },
  {
   "cell_type": "code",
   "execution_count": 306,
   "id": "af5cc34f",
   "metadata": {},
   "outputs": [
    {
     "data": {
      "text/plain": [
       "1"
      ]
     },
     "execution_count": 306,
     "metadata": {},
     "output_type": "execute_result"
    }
   ],
   "source": [
    "b"
   ]
  },
  {
   "cell_type": "code",
   "execution_count": 308,
   "id": "f0cf8dbb",
   "metadata": {},
   "outputs": [],
   "source": [
    "a = 2"
   ]
  },
  {
   "cell_type": "code",
   "execution_count": 310,
   "id": "b0ef6ed3",
   "metadata": {},
   "outputs": [
    {
     "data": {
      "text/plain": [
       "2"
      ]
     },
     "execution_count": 310,
     "metadata": {},
     "output_type": "execute_result"
    }
   ],
   "source": [
    "a\n"
   ]
  },
  {
   "cell_type": "code",
   "execution_count": 318,
   "id": "f2b38da2",
   "metadata": {},
   "outputs": [],
   "source": [
    "a = [1,2]"
   ]
  },
  {
   "cell_type": "code",
   "execution_count": 319,
   "id": "7c0d85f5",
   "metadata": {},
   "outputs": [
    {
     "data": {
      "text/plain": [
       "[1, 2]"
      ]
     },
     "execution_count": 319,
     "metadata": {},
     "output_type": "execute_result"
    }
   ],
   "source": [
    "a"
   ]
  },
  {
   "cell_type": "code",
   "execution_count": 320,
   "id": "b505a449",
   "metadata": {},
   "outputs": [],
   "source": [
    "a = b"
   ]
  },
  {
   "cell_type": "code",
   "execution_count": 322,
   "id": "fb22de52",
   "metadata": {},
   "outputs": [
    {
     "data": {
      "text/plain": [
       "1"
      ]
     },
     "execution_count": 322,
     "metadata": {},
     "output_type": "execute_result"
    }
   ],
   "source": [
    "b "
   ]
  },
  {
   "cell_type": "code",
   "execution_count": 324,
   "id": "8d55fa94",
   "metadata": {},
   "outputs": [],
   "source": [
    "combo = ['burger', 'fries', 'drink']\n",
    "kid_meal = list(combo)"
   ]
  },
  {
   "cell_type": "code",
   "execution_count": 325,
   "id": "31d90146",
   "metadata": {},
   "outputs": [
    {
     "data": {
      "text/plain": [
       "['burger', 'fries', 'drink']"
      ]
     },
     "execution_count": 325,
     "metadata": {},
     "output_type": "execute_result"
    }
   ],
   "source": [
    "kid_meal"
   ]
  },
  {
   "cell_type": "code",
   "execution_count": 327,
   "id": "42d9c93c",
   "metadata": {},
   "outputs": [],
   "source": [
    "\n",
    "combo[0] = 'veggie burger'"
   ]
  },
  {
   "cell_type": "code",
   "execution_count": 329,
   "id": "ffc1afb9",
   "metadata": {},
   "outputs": [
    {
     "data": {
      "text/plain": [
       "['veggie burger', 'fries', 'drink']"
      ]
     },
     "execution_count": 329,
     "metadata": {},
     "output_type": "execute_result"
    }
   ],
   "source": [
    "combo"
   ]
  },
  {
   "cell_type": "code",
   "execution_count": 331,
   "id": "392c2513",
   "metadata": {},
   "outputs": [
    {
     "data": {
      "text/plain": [
       "['burger', 'fries', 'drink']"
      ]
     },
     "execution_count": 331,
     "metadata": {},
     "output_type": "execute_result"
    }
   ],
   "source": [
    "kid_meal"
   ]
  },
  {
   "cell_type": "code",
   "execution_count": 332,
   "id": "d2ad8b90",
   "metadata": {},
   "outputs": [
    {
     "data": {
      "text/plain": [
       "[1, 4, 9, 16, 25, 37, 49]"
      ]
     },
     "execution_count": 332,
     "metadata": {},
     "output_type": "execute_result"
    }
   ],
   "source": [
    "perfect_squares"
   ]
  },
  {
   "cell_type": "code",
   "execution_count": 334,
   "id": "c48137a7",
   "metadata": {},
   "outputs": [
    {
     "data": {
      "text/plain": [
       "7"
      ]
     },
     "execution_count": 334,
     "metadata": {},
     "output_type": "execute_result"
    }
   ],
   "source": [
    "len(perfect_squares)"
   ]
  },
  {
   "cell_type": "code",
   "execution_count": 336,
   "id": "526f1fa6",
   "metadata": {},
   "outputs": [
    {
     "data": {
      "text/plain": [
       "49"
      ]
     },
     "execution_count": 336,
     "metadata": {},
     "output_type": "execute_result"
    }
   ],
   "source": [
    "max(perfect_squares)"
   ]
  },
  {
   "cell_type": "code",
   "execution_count": 338,
   "id": "fc820673",
   "metadata": {},
   "outputs": [
    {
     "data": {
      "text/plain": [
       "141"
      ]
     },
     "execution_count": 338,
     "metadata": {},
     "output_type": "execute_result"
    }
   ],
   "source": [
    "sum(perfect_squares)"
   ]
  },
  {
   "cell_type": "code",
   "execution_count": 341,
   "id": "7ca8833c",
   "metadata": {},
   "outputs": [],
   "source": [
    "letters = ['a', 'b', 'c']\n",
    "numbers = [1, 2, 3]\n",
    "characters = letters + numbers"
   ]
  },
  {
   "cell_type": "code",
   "execution_count": 343,
   "id": "d88f031b",
   "metadata": {},
   "outputs": [
    {
     "data": {
      "text/plain": [
       "['a', 'b', 'c', 1, 2, 3]"
      ]
     },
     "execution_count": 343,
     "metadata": {},
     "output_type": "execute_result"
    }
   ],
   "source": [
    "characters"
   ]
  },
  {
   "cell_type": "code",
   "execution_count": 344,
   "id": "4f35fe95",
   "metadata": {},
   "outputs": [
    {
     "data": {
      "text/plain": [
       "['a', 'b', 'c', 'a', 'b', 'c']"
      ]
     },
     "execution_count": 344,
     "metadata": {},
     "output_type": "execute_result"
    }
   ],
   "source": [
    "letters * 2"
   ]
  },
  {
   "cell_type": "code",
   "execution_count": 346,
   "id": "0fe4e94a",
   "metadata": {},
   "outputs": [
    {
     "data": {
      "text/plain": [
       "[1, 2, 3, 1, 2, 3]"
      ]
     },
     "execution_count": 346,
     "metadata": {},
     "output_type": "execute_result"
    }
   ],
   "source": [
    "numbers * 2"
   ]
  },
  {
   "cell_type": "code",
   "execution_count": 348,
   "id": "3ec4f2ee",
   "metadata": {},
   "outputs": [
    {
     "data": {
      "text/plain": [
       "[1, 4, 9, 16, 25, 37, 49, 1, 4, 9, 16, 25, 37, 49]"
      ]
     },
     "execution_count": 348,
     "metadata": {},
     "output_type": "execute_result"
    }
   ],
   "source": [
    "perfect_squares * 2"
   ]
  },
  {
   "cell_type": "code",
   "execution_count": 350,
   "id": "5a880c12",
   "metadata": {},
   "outputs": [],
   "source": [
    "rainbow = ['red', 'orange', 'yellow', 'green', 'blue', 'violet']"
   ]
  },
  {
   "cell_type": "code",
   "execution_count": 352,
   "id": "68090ccc",
   "metadata": {},
   "outputs": [
    {
     "data": {
      "text/plain": [
       "['red', 'orange', 'yellow', 'green', 'blue', 'violet', 'purple', 'purple']"
      ]
     },
     "execution_count": 352,
     "metadata": {},
     "output_type": "execute_result"
    }
   ],
   "source": [
    "#append will add a single element to the end of a list.\n",
    "\n",
    "rainbow.append('purple')\n",
    "rainbow"
   ]
  },
  {
   "cell_type": "code",
   "execution_count": 356,
   "id": "007c1148",
   "metadata": {},
   "outputs": [
    {
     "data": {
      "text/plain": [
       "['red',\n",
       " 'orange',\n",
       " 'yellow',\n",
       " 'green',\n",
       " 'blue',\n",
       " 'violet',\n",
       " 'purple',\n",
       " 'purple',\n",
       " ['purple'],\n",
       " ['purple']]"
      ]
     },
     "execution_count": 356,
     "metadata": {},
     "output_type": "execute_result"
    }
   ],
   "source": [
    "rainbow.append(['purple'])\n",
    "rainbow"
   ]
  },
  {
   "cell_type": "code",
   "execution_count": 358,
   "id": "b8e88fb7",
   "metadata": {},
   "outputs": [
    {
     "data": {
      "text/plain": [
       "['red',\n",
       " 'orange',\n",
       " 'yellow',\n",
       " 'green',\n",
       " 'blue',\n",
       " 'violet',\n",
       " 'purple',\n",
       " 'purple',\n",
       " ['purple'],\n",
       " ['purple'],\n",
       " ['magenta', 'pink'],\n",
       " ['magenta', 'pink']]"
      ]
     },
     "execution_count": 358,
     "metadata": {},
     "output_type": "execute_result"
    }
   ],
   "source": [
    "# extend used to add elements from an interable to the end of a list\n",
    "#this will unpack the elements of an iterable and add them on by one to the end of the original list.\n",
    "\n",
    "rainbow.append(['magenta', 'pink'])\n",
    "rainbow"
   ]
  },
  {
   "cell_type": "code",
   "execution_count": 361,
   "id": "a9557dd5",
   "metadata": {},
   "outputs": [
    {
     "data": {
      "text/plain": [
       "['red',\n",
       " 'orange',\n",
       " 'yellow',\n",
       " 'green',\n",
       " 'blue',\n",
       " 'violet',\n",
       " 'purple',\n",
       " 'purple',\n",
       " ['purple'],\n",
       " ['purple'],\n",
       " ['magenta', 'pink'],\n",
       " ['magenta', 'pink'],\n",
       " 'magenta',\n",
       " 'pink',\n",
       " 'magenta',\n",
       " 'pink']"
      ]
     },
     "execution_count": 361,
     "metadata": {},
     "output_type": "execute_result"
    }
   ],
   "source": [
    "rainbow.extend(['magenta', 'pink'])\n",
    "rainbow"
   ]
  },
  {
   "cell_type": "code",
   "execution_count": 363,
   "id": "4fd6d9ac",
   "metadata": {},
   "outputs": [
    {
     "data": {
      "text/plain": [
       "['red',\n",
       " 'orange',\n",
       " 'yellow',\n",
       " 'green',\n",
       " 'blue',\n",
       " 'violet',\n",
       " 'purple',\n",
       " 'purple',\n",
       " ['purple'],\n",
       " ['purple'],\n",
       " ['magenta', 'pink'],\n",
       " ['magenta', 'pink'],\n",
       " 'magenta',\n",
       " 'pink',\n",
       " 'magenta',\n",
       " 'pink',\n",
       " 'p',\n",
       " 'a',\n",
       " 'l',\n",
       " 'e',\n",
       " ' ',\n",
       " 'p',\n",
       " 'i',\n",
       " 'n',\n",
       " 'k',\n",
       " 'p',\n",
       " 'a',\n",
       " 'l',\n",
       " 'e',\n",
       " ' ',\n",
       " 'p',\n",
       " 'i',\n",
       " 'n',\n",
       " 'k']"
      ]
     },
     "execution_count": 363,
     "metadata": {},
     "output_type": "execute_result"
    }
   ],
   "source": [
    "rainbow.extend('pale pink')\n",
    "rainbow"
   ]
  },
  {
   "cell_type": "code",
   "execution_count": 365,
   "id": "3b433d6c",
   "metadata": {},
   "outputs": [],
   "source": [
    "rainbow.insert(6, 'indigo')"
   ]
  },
  {
   "cell_type": "code",
   "execution_count": 367,
   "id": "028afbc4",
   "metadata": {},
   "outputs": [
    {
     "data": {
      "text/plain": [
       "['red',\n",
       " 'orange',\n",
       " 'yellow',\n",
       " 'green',\n",
       " 'blue',\n",
       " 'violet',\n",
       " 'indigo',\n",
       " 'purple',\n",
       " 'purple',\n",
       " ['purple'],\n",
       " ['purple'],\n",
       " ['magenta', 'pink'],\n",
       " ['magenta', 'pink'],\n",
       " 'magenta',\n",
       " 'pink',\n",
       " 'magenta',\n",
       " 'pink',\n",
       " 'p',\n",
       " 'a',\n",
       " 'l',\n",
       " 'e',\n",
       " ' ',\n",
       " 'p',\n",
       " 'i',\n",
       " 'n',\n",
       " 'k',\n",
       " 'p',\n",
       " 'a',\n",
       " 'l',\n",
       " 'e',\n",
       " ' ',\n",
       " 'p',\n",
       " 'i',\n",
       " 'n',\n",
       " 'k']"
      ]
     },
     "execution_count": 367,
     "metadata": {},
     "output_type": "execute_result"
    }
   ],
   "source": [
    "rainbow"
   ]
  },
  {
   "cell_type": "code",
   "execution_count": 369,
   "id": "3344fa5c",
   "metadata": {},
   "outputs": [],
   "source": [
    "rainbow.remove('p')"
   ]
  },
  {
   "cell_type": "code",
   "execution_count": 371,
   "id": "e7520e50",
   "metadata": {},
   "outputs": [
    {
     "data": {
      "text/plain": [
       "['red',\n",
       " 'orange',\n",
       " 'yellow',\n",
       " 'green',\n",
       " 'blue',\n",
       " 'violet',\n",
       " 'indigo',\n",
       " 'purple',\n",
       " 'purple',\n",
       " ['purple'],\n",
       " ['purple'],\n",
       " ['magenta', 'pink'],\n",
       " ['magenta', 'pink'],\n",
       " 'magenta',\n",
       " 'pink',\n",
       " 'magenta',\n",
       " 'pink',\n",
       " 'a',\n",
       " 'l',\n",
       " 'e',\n",
       " ' ',\n",
       " 'i',\n",
       " 'n',\n",
       " 'k',\n",
       " 'p',\n",
       " 'a',\n",
       " 'l',\n",
       " 'e',\n",
       " ' ',\n",
       " 'p',\n",
       " 'i',\n",
       " 'n',\n",
       " 'k']"
      ]
     },
     "execution_count": 371,
     "metadata": {},
     "output_type": "execute_result"
    }
   ],
   "source": [
    "rainbow"
   ]
  },
  {
   "cell_type": "code",
   "execution_count": 372,
   "id": "258b2a9c",
   "metadata": {},
   "outputs": [],
   "source": [
    "del rainbow[-13:]"
   ]
  },
  {
   "cell_type": "code",
   "execution_count": 374,
   "id": "be9ee1a3",
   "metadata": {},
   "outputs": [],
   "source": [
    "rainbow.clear()"
   ]
  },
  {
   "cell_type": "code",
   "execution_count": null,
   "id": "5e96a77e",
   "metadata": {},
   "outputs": [
    {
     "data": {
      "text/plain": [
       "[]"
      ]
     },
     "execution_count": 376,
     "metadata": {},
     "output_type": "execute_result"
    }
   ],
   "source": [
    "rainbow"
   ]
  },
  {
   "cell_type": "code",
   "execution_count": 377,
   "id": "cd8baaeb",
   "metadata": {},
   "outputs": [
    {
     "data": {
      "text/plain": [
       "[]"
      ]
     },
     "execution_count": 377,
     "metadata": {},
     "output_type": "execute_result"
    }
   ],
   "source": [
    "rainbow"
   ]
  },
  {
   "cell_type": "code",
   "execution_count": null,
   "id": "91fb4a18",
   "metadata": {},
   "outputs": [
    {
     "name": "stdout",
     "output_type": "stream",
     "text": [
      "None\n"
     ]
    }
   ],
   "source": [
    "# sort () method\n",
    "fruits = ['pineapple', 'apple', 'kiwi', 'banana']\n",
    "print(fruits.sort())"
   ]
  },
  {
   "cell_type": "code",
   "execution_count": null,
   "id": "56d3fdec",
   "metadata": {},
   "outputs": [
    {
     "name": "stdout",
     "output_type": "stream",
     "text": [
      "['apple', 'banana', 'kiwi', 'pineapple']\n"
     ]
    }
   ],
   "source": [
    "print(fruits) # method sorts/modifies the original list in place"
   ]
  },
  {
   "cell_type": "code",
   "execution_count": null,
   "id": "f333d0f2",
   "metadata": {},
   "outputs": [
    {
     "name": "stdout",
     "output_type": "stream",
     "text": [
      "['bell pepper', 'cabbage', 'celery', 'onion', 'potatos']\n"
     ]
    }
   ],
   "source": [
    "# sort () function\n",
    "\n",
    "veggies = ['potatos', 'celery', 'cabbage', 'bell pepper', 'onion']\n",
    "print(sorted(veggies)) # function returns sorted list"
   ]
  },
  {
   "cell_type": "code",
   "execution_count": null,
   "id": "913d1f8c",
   "metadata": {},
   "outputs": [
    {
     "name": "stdout",
     "output_type": "stream",
     "text": [
      "['potatos', 'celery', 'cabbage', 'bell pepper', 'onion']\n"
     ]
    }
   ],
   "source": [
    "print(veggies) # function does not modify the original list."
   ]
  },
  {
   "cell_type": "code",
   "execution_count": 384,
   "id": "6d807442",
   "metadata": {},
   "outputs": [],
   "source": [
    "# by dafault ints and foats will be sorted in ascending order.\n",
    "# strings sorted alphabetically based on the Unicode code point value of each character\n",
    "# 'A' -> 65\n",
    "# 'a' -> 97"
   ]
  },
  {
   "cell_type": "code",
   "execution_count": 385,
   "id": "02a21ae1",
   "metadata": {},
   "outputs": [
    {
     "data": {
      "text/plain": [
       "['Apple', 'Bacon', 'anger', 'bun']"
      ]
     },
     "execution_count": 385,
     "metadata": {},
     "output_type": "execute_result"
    }
   ],
   "source": [
    "sorted(['Bacon', 'bun', 'Apple', 'anger'])"
   ]
  },
  {
   "cell_type": "code",
   "execution_count": 387,
   "id": "b085c036",
   "metadata": {},
   "outputs": [],
   "source": [
    "def last_letter(text):\n",
    "    return text[-1]"
   ]
  },
  {
   "cell_type": "code",
   "execution_count": 389,
   "id": "7efd80ef",
   "metadata": {},
   "outputs": [
    {
     "data": {
      "text/plain": [
       "'o'"
      ]
     },
     "execution_count": 389,
     "metadata": {},
     "output_type": "execute_result"
    }
   ],
   "source": [
    "last_letter('hiro')"
   ]
  },
  {
   "cell_type": "code",
   "execution_count": 390,
   "id": "75e14b65",
   "metadata": {},
   "outputs": [
    {
     "data": {
      "text/plain": [
       "['cabbage', 'onion', 'bell pepper', 'potatos', 'celery']"
      ]
     },
     "execution_count": 390,
     "metadata": {},
     "output_type": "execute_result"
    }
   ],
   "source": [
    "sorted(veggies, key=last_letter)"
   ]
  },
  {
   "cell_type": "code",
   "execution_count": 17,
   "id": "2151c875",
   "metadata": {},
   "outputs": [
    {
     "data": {
      "text/plain": [
       "('changeable', 'fluctuating', 'inconsistent', 'variable')"
      ]
     },
     "execution_count": 17,
     "metadata": {},
     "output_type": "execute_result"
    }
   ],
   "source": [
    "# tuplie\n",
    "# tple are IMMUTABLE\n",
    "\n",
    "mutable_synonyms = ('changeable', 'fluctuating', 'inconsistent', 'variable')\n",
    "mutable_synonyms"
   ]
  },
  {
   "cell_type": "code",
   "execution_count": 3,
   "id": "b03b02f4",
   "metadata": {},
   "outputs": [],
   "source": [
    "empty = ()"
   ]
  },
  {
   "cell_type": "code",
   "execution_count": 5,
   "id": "097bbf1d",
   "metadata": {},
   "outputs": [
    {
     "data": {
      "text/plain": [
       "()"
      ]
     },
     "execution_count": 5,
     "metadata": {},
     "output_type": "execute_result"
    }
   ],
   "source": [
    "empty"
   ]
  },
  {
   "cell_type": "code",
   "execution_count": 7,
   "id": "86d26e0a",
   "metadata": {},
   "outputs": [
    {
     "data": {
      "text/plain": [
       "()"
      ]
     },
     "execution_count": 7,
     "metadata": {},
     "output_type": "execute_result"
    }
   ],
   "source": [
    "also_empty = tuple ()\n",
    "also_empty"
   ]
  },
  {
   "cell_type": "code",
   "execution_count": 9,
   "id": "024e1411",
   "metadata": {},
   "outputs": [
    {
     "ename": "AttributeError",
     "evalue": "'tuple' object has no attribute 'append'",
     "output_type": "error",
     "traceback": [
      "\u001b[0;31m---------------------------------------------------------------------------\u001b[0m",
      "\u001b[0;31mAttributeError\u001b[0m                            Traceback (most recent call last)",
      "Cell \u001b[0;32mIn[9], line 1\u001b[0m\n\u001b[0;32m----> 1\u001b[0m \u001b[43mempty\u001b[49m\u001b[38;5;241;43m.\u001b[39;49m\u001b[43mappend\u001b[49m(\u001b[38;5;124m'\u001b[39m\u001b[38;5;124mhi\u001b[39m\u001b[38;5;124m'\u001b[39m)\n",
      "\u001b[0;31mAttributeError\u001b[0m: 'tuple' object has no attribute 'append'"
     ]
    }
   ],
   "source": [
    "empty.append('hi')"
   ]
  },
  {
   "cell_type": "code",
   "execution_count": 10,
   "id": "18a1a368",
   "metadata": {},
   "outputs": [
    {
     "data": {
      "text/plain": [
       "4"
      ]
     },
     "execution_count": 10,
     "metadata": {},
     "output_type": "execute_result"
    }
   ],
   "source": [
    "len(mutable_synonyms)"
   ]
  },
  {
   "cell_type": "code",
   "execution_count": 12,
   "id": "22458298",
   "metadata": {},
   "outputs": [
    {
     "data": {
      "text/plain": [
       "('changeable', 'fluctuating', 'inconsistent', 'variable')"
      ]
     },
     "execution_count": 12,
     "metadata": {},
     "output_type": "execute_result"
    }
   ],
   "source": [
    "mutable_synonyms"
   ]
  },
  {
   "cell_type": "code",
   "execution_count": null,
   "id": "b6c26fd3",
   "metadata": {},
   "outputs": [
    {
     "data": {
      "text/plain": [
       "['changeable', 'fluctuating', 'inconsistent', 'variable']"
      ]
     },
     "execution_count": 20,
     "metadata": {},
     "output_type": "execute_result"
    }
   ],
   "source": [
    "sorted(mutable_synonyms)"
   ]
  },
  {
   "cell_type": "code",
   "execution_count": 21,
   "id": "71cbc34c",
   "metadata": {},
   "outputs": [
    {
     "data": {
      "text/plain": [
       "('changeable',\n",
       " 'fluctuating',\n",
       " 'inconsistent',\n",
       " 'variable',\n",
       " 'motifiable',\n",
       " 'shifting')"
      ]
     },
     "execution_count": 21,
     "metadata": {},
     "output_type": "execute_result"
    }
   ],
   "source": [
    "mutable_synonyms + ('motifiable', 'shifting')"
   ]
  },
  {
   "cell_type": "code",
   "execution_count": 22,
   "id": "586f1364",
   "metadata": {},
   "outputs": [],
   "source": [
    "# sets \n",
    "#{}\n",
    "# mutable, unordered and distinct"
   ]
  },
  {
   "cell_type": "code",
   "execution_count": 26,
   "id": "f810ac65",
   "metadata": {},
   "outputs": [
    {
     "data": {
      "text/plain": [
       "{'apple', 'book', 'box', 'coat', 'hair', 'lock', 'xylophone'}"
      ]
     },
     "execution_count": 26,
     "metadata": {},
     "output_type": "execute_result"
    }
   ],
   "source": [
    "things = {'coat', 'lock', 'book', 'apple', 'hair', 'box', 'xylophone', 'lock', 'book'}\n",
    "things"
   ]
  },
  {
   "cell_type": "code",
   "execution_count": 29,
   "id": "907b5722",
   "metadata": {},
   "outputs": [
    {
     "data": {
      "text/plain": [
       "['M5R', 'M5V', 'M1M', 'M1M']"
      ]
     },
     "execution_count": 29,
     "metadata": {},
     "output_type": "execute_result"
    }
   ],
   "source": [
    "visitor_post_codes = ['M5R', 'M5V', 'M1M', 'M1M']\n",
    "visitor_post_codes"
   ]
  },
  {
   "cell_type": "code",
   "execution_count": 31,
   "id": "659f1a51",
   "metadata": {},
   "outputs": [
    {
     "data": {
      "text/plain": [
       "{'M1M', 'M5R', 'M5V'}"
      ]
     },
     "execution_count": 31,
     "metadata": {},
     "output_type": "execute_result"
    }
   ],
   "source": [
    "set(visitor_post_codes)"
   ]
  },
  {
   "cell_type": "code",
   "execution_count": 34,
   "id": "43fdf4ad",
   "metadata": {},
   "outputs": [
    {
     "data": {
      "text/plain": [
       "False"
      ]
     },
     "execution_count": 34,
     "metadata": {},
     "output_type": "execute_result"
    }
   ],
   "source": [
    "'hiro' in things"
   ]
  },
  {
   "cell_type": "code",
   "execution_count": 37,
   "id": "827b5cce",
   "metadata": {},
   "outputs": [
    {
     "data": {
      "text/plain": [
       "{'apple', 'book', 'box', 'coat', 'hair', 'lock', 'xylophone'}"
      ]
     },
     "execution_count": 37,
     "metadata": {},
     "output_type": "execute_result"
    }
   ],
   "source": [
    "things.add('lock')\n",
    "things"
   ]
  },
  {
   "cell_type": "code",
   "execution_count": 39,
   "id": "663e85fe",
   "metadata": {},
   "outputs": [],
   "source": [
    "things.add('mirorr')"
   ]
  },
  {
   "cell_type": "code",
   "execution_count": 41,
   "id": "6ff40776",
   "metadata": {},
   "outputs": [
    {
     "data": {
      "text/plain": [
       "{'apple', 'book', 'box', 'coat', 'hair', 'lock', 'mirorr', 'xylophone'}"
      ]
     },
     "execution_count": 41,
     "metadata": {},
     "output_type": "execute_result"
    }
   ],
   "source": [
    "things"
   ]
  },
  {
   "cell_type": "code",
   "execution_count": 50,
   "id": "e95b7265",
   "metadata": {},
   "outputs": [
    {
     "ename": "KeyError",
     "evalue": "'box'",
     "output_type": "error",
     "traceback": [
      "\u001b[0;31m---------------------------------------------------------------------------\u001b[0m",
      "\u001b[0;31mKeyError\u001b[0m                                  Traceback (most recent call last)",
      "Cell \u001b[0;32mIn[50], line 1\u001b[0m\n\u001b[0;32m----> 1\u001b[0m \u001b[43mthings\u001b[49m\u001b[38;5;241;43m.\u001b[39;49m\u001b[43mremove\u001b[49m\u001b[43m(\u001b[49m\u001b[38;5;124;43m'\u001b[39;49m\u001b[38;5;124;43mbox\u001b[39;49m\u001b[38;5;124;43m'\u001b[39;49m\u001b[43m)\u001b[49m\n",
      "\u001b[0;31mKeyError\u001b[0m: 'box'"
     ]
    }
   ],
   "source": [
    "things.remove('box')"
   ]
  },
  {
   "cell_type": "code",
   "execution_count": 51,
   "id": "98ce03a9",
   "metadata": {},
   "outputs": [
    {
     "data": {
      "text/plain": [
       "{'book', 'coat', 'hair', 'lock', 'mirorr', 'xylophone'}"
      ]
     },
     "execution_count": 51,
     "metadata": {},
     "output_type": "execute_result"
    }
   ],
   "source": [
    "things"
   ]
  },
  {
   "cell_type": "code",
   "execution_count": 46,
   "id": "a3c8e508",
   "metadata": {},
   "outputs": [],
   "source": [
    "empty_set = set()"
   ]
  },
  {
   "cell_type": "code",
   "execution_count": 52,
   "id": "d979648f",
   "metadata": {},
   "outputs": [
    {
     "data": {
      "text/plain": [
       "set()"
      ]
     },
     "execution_count": 52,
     "metadata": {},
     "output_type": "execute_result"
    }
   ],
   "source": [
    "empty_set\n",
    "# empty_list = []\n",
    "# empty_tuple = ()"
   ]
  },
  {
   "cell_type": "code",
   "execution_count": 60,
   "id": "fa02f0f5",
   "metadata": {},
   "outputs": [
    {
     "data": {
      "text/plain": [
       "{'indigo', 'orange', 'violet'}"
      ]
     },
     "execution_count": 60,
     "metadata": {},
     "output_type": "execute_result"
    }
   ],
   "source": [
    "rainbow = {'red', 'orange', 'yellow', 'green', 'blue', 'indigo', 'violet'}\n",
    "olympic_flag = {'red', 'green', 'yellow', 'blue'}\n",
    "\n",
    "rainbow.difference(olympic_flag)"
   ]
  },
  {
   "cell_type": "code",
   "execution_count": 62,
   "id": "9026bca2",
   "metadata": {},
   "outputs": [
    {
     "data": {
      "text/plain": [
       "set()"
      ]
     },
     "execution_count": 62,
     "metadata": {},
     "output_type": "execute_result"
    }
   ],
   "source": [
    "olympic_flag.difference(rainbow)"
   ]
  },
  {
   "cell_type": "code",
   "execution_count": 63,
   "id": "5c2929b3",
   "metadata": {},
   "outputs": [
    {
     "data": {
      "text/plain": [
       "{'indigo', 'orange', 'violet'}"
      ]
     },
     "execution_count": 63,
     "metadata": {},
     "output_type": "execute_result"
    }
   ],
   "source": [
    "rainbow.symmetric_difference(olympic_flag)"
   ]
  },
  {
   "cell_type": "code",
   "execution_count": 66,
   "id": "ed37b76b",
   "metadata": {},
   "outputs": [
    {
     "data": {
      "text/plain": [
       "{'blue', 'green', 'red', 'yellow'}"
      ]
     },
     "execution_count": 66,
     "metadata": {},
     "output_type": "execute_result"
    }
   ],
   "source": [
    "rainbow.intersection(olympic_flag)"
   ]
  },
  {
   "cell_type": "code",
   "execution_count": 68,
   "id": "26d3ae17",
   "metadata": {},
   "outputs": [
    {
     "data": {
      "text/plain": [
       "{'blue', 'green', 'indigo', 'orange', 'red', 'violet', 'yellow'}"
      ]
     },
     "execution_count": 68,
     "metadata": {},
     "output_type": "execute_result"
    }
   ],
   "source": [
    "rainbow.union(olympic_flag)"
   ]
  },
  {
   "cell_type": "code",
   "execution_count": null,
   "id": "2f1252d5",
   "metadata": {},
   "outputs": [],
   "source": [
    "# dictionary\n",
    "# {} key:value pairs\n",
    "# ordered and mutable\n",
    "# every key in a dictionary is unique, immutable data type\n",
    "# values can be any data type\n",
    "\n"
   ]
  },
  {
   "cell_type": "code",
   "execution_count": 71,
   "id": "030b2b3e",
   "metadata": {},
   "outputs": [],
   "source": [
    "capital = {'Canada': 'Ottawa', \n",
    "           'United States': 'Washington, D.C.',\n",
    "           'Mexico': 'Mexico City'}"
   ]
  },
  {
   "cell_type": "code",
   "execution_count": 72,
   "id": "ab1a83c3",
   "metadata": {},
   "outputs": [
    {
     "data": {
      "text/plain": [
       "{'Canada': 'Ottawa',\n",
       " 'United States': 'Washington, D.C.',\n",
       " 'Mexico': 'Mexico City'}"
      ]
     },
     "execution_count": 72,
     "metadata": {},
     "output_type": "execute_result"
    }
   ],
   "source": [
    "capital"
   ]
  },
  {
   "cell_type": "code",
   "execution_count": 73,
   "id": "02ea4432",
   "metadata": {},
   "outputs": [],
   "source": [
    "olympic_cities = {2020: 'Tokyo', 2016: 'Rio de Janiero', 2012: 'London'}"
   ]
  },
  {
   "cell_type": "code",
   "execution_count": 75,
   "id": "13a5a79c",
   "metadata": {},
   "outputs": [
    {
     "data": {
      "text/plain": [
       "{2020: 'Tokyo', 2016: 'Rio de Janiero', 2012: 'London'}"
      ]
     },
     "execution_count": 75,
     "metadata": {},
     "output_type": "execute_result"
    }
   ],
   "source": [
    "olympic_cities"
   ]
  },
  {
   "cell_type": "code",
   "execution_count": 79,
   "id": "ccabf7c6",
   "metadata": {},
   "outputs": [],
   "source": [
    "all_olympic_hosts = {'summer': olympic_cities,\n",
    "                     'winter': {2022:'beijing'}}"
   ]
  },
  {
   "cell_type": "code",
   "execution_count": 81,
   "id": "6bd559ba",
   "metadata": {},
   "outputs": [
    {
     "data": {
      "text/plain": [
       "{'summer': {2020: 'Tokyo', 2016: 'Rio de Janiero', 2012: 'London'},\n",
       " 'winter': {2022: 'beijing'}}"
      ]
     },
     "execution_count": 81,
     "metadata": {},
     "output_type": "execute_result"
    }
   ],
   "source": [
    "all_olympic_hosts"
   ]
  },
  {
   "cell_type": "code",
   "execution_count": 84,
   "id": "1a81848c",
   "metadata": {},
   "outputs": [],
   "source": [
    "emplty_dictionary = {}"
   ]
  },
  {
   "cell_type": "code",
   "execution_count": 85,
   "id": "31169b5c",
   "metadata": {},
   "outputs": [
    {
     "data": {
      "text/plain": [
       "{}"
      ]
     },
     "execution_count": 85,
     "metadata": {},
     "output_type": "execute_result"
    }
   ],
   "source": [
    "emplty_dictionary"
   ]
  },
  {
   "cell_type": "code",
   "execution_count": 86,
   "id": "a51a2e04",
   "metadata": {},
   "outputs": [
    {
     "data": {
      "text/plain": [
       "{2020: 'Tokyo', 2016: 'Rio de Janiero', 2012: 'London'}"
      ]
     },
     "execution_count": 86,
     "metadata": {},
     "output_type": "execute_result"
    }
   ],
   "source": [
    "olympic_cities"
   ]
  },
  {
   "cell_type": "code",
   "execution_count": 89,
   "id": "c8572c98",
   "metadata": {},
   "outputs": [
    {
     "data": {
      "text/plain": [
       "'Tokyo'"
      ]
     },
     "execution_count": 89,
     "metadata": {},
     "output_type": "execute_result"
    }
   ],
   "source": [
    "olympic_cities[2020]"
   ]
  },
  {
   "cell_type": "code",
   "execution_count": 90,
   "id": "000af6d6",
   "metadata": {},
   "outputs": [
    {
     "data": {
      "text/plain": [
       "{'summer': {2020: 'Tokyo', 2016: 'Rio de Janiero', 2012: 'London'},\n",
       " 'winter': {2022: 'beijing'}}"
      ]
     },
     "execution_count": 90,
     "metadata": {},
     "output_type": "execute_result"
    }
   ],
   "source": [
    "all_olympic_hosts"
   ]
  },
  {
   "cell_type": "code",
   "execution_count": 95,
   "id": "7757b676",
   "metadata": {},
   "outputs": [
    {
     "data": {
      "text/plain": [
       "{2022: 'beijing'}"
      ]
     },
     "execution_count": 95,
     "metadata": {},
     "output_type": "execute_result"
    }
   ],
   "source": [
    "all_olympic_hosts['winter']"
   ]
  },
  {
   "cell_type": "code",
   "execution_count": 97,
   "id": "001506fc",
   "metadata": {},
   "outputs": [
    {
     "data": {
      "text/plain": [
       "{2020: 'Tokyo', 2016: 'Rio de Janiero', 2012: 'London'}"
      ]
     },
     "execution_count": 97,
     "metadata": {},
     "output_type": "execute_result"
    }
   ],
   "source": [
    "olympic_cities"
   ]
  },
  {
   "cell_type": "code",
   "execution_count": 99,
   "id": "9657e079",
   "metadata": {},
   "outputs": [
    {
     "data": {
      "text/plain": [
       "'Athens'"
      ]
     },
     "execution_count": 99,
     "metadata": {},
     "output_type": "execute_result"
    }
   ],
   "source": [
    "olympic_cities.get(2004, 'Athens')"
   ]
  },
  {
   "cell_type": "code",
   "execution_count": 101,
   "id": "720f57cd",
   "metadata": {},
   "outputs": [],
   "source": [
    "olympic_cities.get(2027)"
   ]
  },
  {
   "cell_type": "code",
   "execution_count": 103,
   "id": "fada5488",
   "metadata": {},
   "outputs": [
    {
     "data": {
      "text/plain": [
       "{2020: 'Tokyo', 2016: 'Rio de Janiero', 2012: 'London'}"
      ]
     },
     "execution_count": 103,
     "metadata": {},
     "output_type": "execute_result"
    }
   ],
   "source": [
    "olympic_cities"
   ]
  },
  {
   "cell_type": "code",
   "execution_count": 105,
   "id": "123ecb00",
   "metadata": {},
   "outputs": [
    {
     "data": {
      "text/plain": [
       "True"
      ]
     },
     "execution_count": 105,
     "metadata": {},
     "output_type": "execute_result"
    }
   ],
   "source": [
    "2016 in olympic_cities"
   ]
  },
  {
   "cell_type": "code",
   "execution_count": 107,
   "id": "8b580a0d",
   "metadata": {},
   "outputs": [
    {
     "data": {
      "text/plain": [
       "False"
      ]
     },
     "execution_count": 107,
     "metadata": {},
     "output_type": "execute_result"
    }
   ],
   "source": [
    "'Rio de Janiero' in olympic_cities"
   ]
  },
  {
   "cell_type": "code",
   "execution_count": 109,
   "id": "3373998f",
   "metadata": {},
   "outputs": [
    {
     "data": {
      "text/plain": [
       "{2020: 'Tokyo', 2016: 'Rio de Janiero', 2012: 'London'}"
      ]
     },
     "execution_count": 109,
     "metadata": {},
     "output_type": "execute_result"
    }
   ],
   "source": [
    "olympic_cities"
   ]
  },
  {
   "cell_type": "code",
   "execution_count": 111,
   "id": "7cee144c",
   "metadata": {},
   "outputs": [],
   "source": [
    "olympic_cities[2008] = 'Barcelona'"
   ]
  },
  {
   "cell_type": "code",
   "execution_count": 113,
   "id": "0c3aac0e",
   "metadata": {},
   "outputs": [
    {
     "data": {
      "text/plain": [
       "{2020: 'Tokyo', 2016: 'Rio de Janiero', 2012: 'London', 2008: 'Barcelona'}"
      ]
     },
     "execution_count": 113,
     "metadata": {},
     "output_type": "execute_result"
    }
   ],
   "source": [
    "olympic_cities"
   ]
  },
  {
   "cell_type": "code",
   "execution_count": 114,
   "id": "f28e7e2d",
   "metadata": {},
   "outputs": [],
   "source": [
    "olympic_cities[2008] = 'Beijing'"
   ]
  },
  {
   "cell_type": "code",
   "execution_count": 116,
   "id": "4ae0e14b",
   "metadata": {},
   "outputs": [
    {
     "data": {
      "text/plain": [
       "{2020: 'Tokyo', 2016: 'Rio de Janiero', 2012: 'London', 2008: 'Beijing'}"
      ]
     },
     "execution_count": 116,
     "metadata": {},
     "output_type": "execute_result"
    }
   ],
   "source": [
    "olympic_cities"
   ]
  },
  {
   "cell_type": "code",
   "execution_count": 118,
   "id": "3de710eb",
   "metadata": {},
   "outputs": [
    {
     "data": {
      "text/plain": [
       "{'summer': {2020: 'Tokyo',\n",
       "  2016: 'Rio de Janiero',\n",
       "  2012: 'London',\n",
       "  2008: 'Beijing'},\n",
       " 'winter': {2022: 'beijing'}}"
      ]
     },
     "execution_count": 118,
     "metadata": {},
     "output_type": "execute_result"
    }
   ],
   "source": [
    "all_olympic_hosts"
   ]
  },
  {
   "cell_type": "code",
   "execution_count": 120,
   "id": "d1d18704",
   "metadata": {},
   "outputs": [
    {
     "ename": "KeyError",
     "evalue": "2020",
     "output_type": "error",
     "traceback": [
      "\u001b[0;31m---------------------------------------------------------------------------\u001b[0m",
      "\u001b[0;31mKeyError\u001b[0m                                  Traceback (most recent call last)",
      "Cell \u001b[0;32mIn[120], line 1\u001b[0m\n\u001b[0;32m----> 1\u001b[0m \u001b[38;5;28;01mdel\u001b[39;00m olympic_cities[\u001b[38;5;241m2020\u001b[39m]\n",
      "\u001b[0;31mKeyError\u001b[0m: 2020"
     ]
    }
   ],
   "source": [
    "del olympic_cities[2020]"
   ]
  },
  {
   "cell_type": "code",
   "execution_count": 122,
   "id": "3289238a",
   "metadata": {},
   "outputs": [
    {
     "data": {
      "text/plain": [
       "{2016: 'Rio de Janiero', 2012: 'London', 2008: 'Beijing'}"
      ]
     },
     "execution_count": 122,
     "metadata": {},
     "output_type": "execute_result"
    }
   ],
   "source": [
    "olympic_cities"
   ]
  },
  {
   "cell_type": "code",
   "execution_count": 123,
   "id": "0b8fe105",
   "metadata": {},
   "outputs": [
    {
     "data": {
      "text/plain": [
       "dict_keys(['summer', 'winter'])"
      ]
     },
     "execution_count": 123,
     "metadata": {},
     "output_type": "execute_result"
    }
   ],
   "source": [
    "all_olympic_hosts.keys()"
   ]
  },
  {
   "cell_type": "code",
   "execution_count": 125,
   "id": "1aa4e0ee",
   "metadata": {},
   "outputs": [
    {
     "data": {
      "text/plain": [
       "dict_values(['Rio de Janiero', 'London', 'Beijing'])"
      ]
     },
     "execution_count": 125,
     "metadata": {},
     "output_type": "execute_result"
    }
   ],
   "source": [
    "olympic_cities.values()"
   ]
  },
  {
   "cell_type": "code",
   "execution_count": 127,
   "id": "3e338fb1",
   "metadata": {},
   "outputs": [
    {
     "data": {
      "text/plain": [
       "dict_items([(2016, 'Rio de Janiero'), (2012, 'London'), (2008, 'Beijing')])"
      ]
     },
     "execution_count": 127,
     "metadata": {},
     "output_type": "execute_result"
    }
   ],
   "source": [
    "olympic_cities.items()"
   ]
  },
  {
   "cell_type": "code",
   "execution_count": 128,
   "id": "1ce62ac6",
   "metadata": {},
   "outputs": [],
   "source": [
    "# for loop will run an indented block of code for every item in an iterable \n",
    "# iterable -> data type list, tuple, set, dictionary and string. "
   ]
  },
  {
   "cell_type": "code",
   "execution_count": 131,
   "id": "4bc412a2",
   "metadata": {},
   "outputs": [],
   "source": [
    "vowels = ['a', 'e', 'i', 'o', 'u']"
   ]
  },
  {
   "cell_type": "code",
   "execution_count": 133,
   "id": "8cb7363e",
   "metadata": {},
   "outputs": [
    {
     "data": {
      "text/plain": [
       "['a', 'e', 'i', 'o', 'u']"
      ]
     },
     "execution_count": 133,
     "metadata": {},
     "output_type": "execute_result"
    }
   ],
   "source": [
    "vowels"
   ]
  },
  {
   "cell_type": "code",
   "execution_count": 136,
   "id": "64c93af3",
   "metadata": {},
   "outputs": [
    {
     "name": "stdout",
     "output_type": "stream",
     "text": [
      "a\n",
      "e\n",
      "i\n",
      "o\n",
      "u\n"
     ]
    }
   ],
   "source": [
    "for i in vowels:\n",
    "    print(i)"
   ]
  },
  {
   "cell_type": "code",
   "execution_count": 139,
   "id": "85578354",
   "metadata": {},
   "outputs": [
    {
     "name": "stdout",
     "output_type": "stream",
     "text": [
      "0 0\n",
      "1 2\n",
      "2 4\n",
      "3 6\n",
      "4 8\n",
      "5 10\n",
      "6 12\n"
     ]
    }
   ],
   "source": [
    "for i in range(7): # range() creates an iterable to loop over\n",
    "    print(i, i*2) # i=1"
   ]
  },
  {
   "cell_type": "code",
   "execution_count": 143,
   "id": "60616c43",
   "metadata": {},
   "outputs": [
    {
     "name": "stdout",
     "output_type": "stream",
     "text": [
      "['processed_data_01.xlsx']\n",
      "['processed_data_01.xlsx', 'processed_data_02.xlsx']\n",
      "['processed_data_01.xlsx', 'processed_data_02.xlsx', 'processed_data_03.xlsx']\n"
     ]
    }
   ],
   "source": [
    "input_files = ['data_01.csv', 'data_02.csv', 'data_03.csv']\n",
    "output_file = []\n",
    "\n",
    "for i in input_files:\n",
    "    output_file_name = 'processed_' + i.replace('.csv', '.xlsx')\n",
    "    # output_file_name = 'processed_data.01.xlsx\n",
    "    output_file.append(output_file_name)\n",
    "    print(output_file)\n"
   ]
  },
  {
   "cell_type": "code",
   "execution_count": 145,
   "id": "c10308d2",
   "metadata": {},
   "outputs": [],
   "source": [
    "stops = ['Sheppard-Younge', 'Bayview', 'Leslie', 'Bessarion', 'Don Mills']"
   ]
  },
  {
   "cell_type": "code",
   "execution_count": 147,
   "id": "2415e98f",
   "metadata": {},
   "outputs": [
    {
     "name": "stdout",
     "output_type": "stream",
     "text": [
      "0 Sheppard-Younge\n",
      "1 Bayview\n",
      "2 Leslie\n",
      "3 Bessarion\n",
      "4 Don Mills\n"
     ]
    }
   ],
   "source": [
    "for idx, stop in enumerate(stops):\n",
    "    print(idx, stop)"
   ]
  },
  {
   "cell_type": "code",
   "execution_count": 150,
   "id": "0ed955aa",
   "metadata": {},
   "outputs": [
    {
     "data": {
      "text/plain": [
       "[2, 20, 200, 20000]"
      ]
     },
     "execution_count": 150,
     "metadata": {},
     "output_type": "execute_result"
    }
   ],
   "source": [
    "numbers = [1, 10, 100, 10000]\n",
    "\n",
    "for idx, val in enumerate(numbers):\n",
    "    numbers[idx] = val * 2\n",
    "\n",
    "numbers"
   ]
  },
  {
   "cell_type": "code",
   "execution_count": 155,
   "id": "dc2478ef",
   "metadata": {},
   "outputs": [
    {
     "name": "stdout",
     "output_type": "stream",
     "text": [
      "45.32 23.45\n",
      "49.11 67.78\n",
      "11.11 90.21\n"
     ]
    }
   ],
   "source": [
    "lats = (45.32, 49.11, 11.11)\n",
    "lons = (23.45, 67.78, 90.21)\n",
    "\n",
    "for i, j in zip(lats, lons):\n",
    "    print(i, j)"
   ]
  },
  {
   "cell_type": "code",
   "execution_count": 161,
   "id": "b5ff4892",
   "metadata": {},
   "outputs": [
    {
     "name": "stdout",
     "output_type": "stream",
     "text": [
      "apple potato\n",
      "apple celery\n",
      "apple onion\n",
      "banana potato\n",
      "banana celery\n",
      "banana onion\n",
      "pear potato\n",
      "pear celery\n",
      "pear onion\n"
     ]
    }
   ],
   "source": [
    "for fruit in ['apple', 'banana', 'pear']:\n",
    "    for veg in ['potato', 'celery', 'onion']:\n",
    "        print(fruit, veg)"
   ]
  },
  {
   "cell_type": "code",
   "execution_count": 163,
   "id": "e6729cfa",
   "metadata": {},
   "outputs": [
    {
     "name": "stdout",
     "output_type": "stream",
     "text": [
      "4\n",
      "3\n",
      "2\n",
      "1\n"
     ]
    }
   ],
   "source": [
    "countdown = 4\n",
    "while countdown >0:\n",
    "    print(countdown)\n",
    "    countdown-= 1"
   ]
  },
  {
   "cell_type": "code",
   "execution_count": null,
   "id": "b0585aa8",
   "metadata": {},
   "outputs": [
    {
     "name": "stdout",
     "output_type": "stream",
     "text": [
      "4\n",
      "3\n",
      "We are breaking the loop early.\n",
      "Done interating.\n"
     ]
    },
    {
     "name": "stdout",
     "output_type": "stream",
     "text": [
      "4\n",
      "3\n",
      "We are breaking the loop early.\n",
      "Done interating.\n"
     ]
    }
   ],
   "source": [
    "countdown = 4\n",
    "\n",
    "while countdown > 0:\n",
    "    print(countdown)\n",
    "    if countdown == 3:\n",
    "        print('We are breaking the loop early.')\n",
    "        break\n",
    "    countdown -= 1\n",
    "\n",
    "print('Done interating.')"
   ]
  },
  {
   "cell_type": "code",
   "execution_count": null,
   "id": "f89d06ca",
   "metadata": {},
   "outputs": [],
   "source": [
    "while True:\n",
    "    password = input(\"what's the password?\")\n",
    "\n",
    "    if password.lower() == 'open seseme':\n",
    "        print('you are in!')\n",
    "        break"
   ]
  },
  {
   "cell_type": "code",
   "execution_count": 170,
   "id": "99f2be63",
   "metadata": {},
   "outputs": [
    {
     "ename": "SyntaxError",
     "evalue": "invalid syntax (1993718752.py, line 3)",
     "output_type": "error",
     "traceback": [
      "\u001b[0;36m  Cell \u001b[0;32mIn[170], line 3\u001b[0;36m\u001b[0m\n\u001b[0;31m    while wishes > 0\u001b[0m\n\u001b[0m                    ^\u001b[0m\n\u001b[0;31mSyntaxError\u001b[0m\u001b[0;31m:\u001b[0m invalid syntax\n"
     ]
    }
   ],
   "source": [
    "wishes = 3\n",
    "\n",
    "while wishes > 0\n",
    "wish = input('make a wish: ')\n",
    "    if 'infinite wishes' in wish.lower():\n",
    "        print('you can\\'t do that!')\n",
    "        continue\n",
    "    else:\n",
    "        print('wish granted.')\n",
    "    wishes -= 1\n",
    "print('you have used all your wishes')"
   ]
  },
  {
   "cell_type": "code",
   "execution_count": 193,
   "id": "f12a942e",
   "metadata": {},
   "outputs": [
    {
     "ename": "IndentationError",
     "evalue": "expected an indented block (1623272342.py, line 8)",
     "output_type": "error",
     "traceback": [
      "\u001b[0;36m  Cell \u001b[0;32mIn[193], line 8\u001b[0;36m\u001b[0m\n\u001b[0;31m    with open('/Users/Hiro/python/05_src/data/slides_data/california_housing_test.csv', 'r') as f:\u001b[0m\n\u001b[0m                                                                                                  ^\u001b[0m\n\u001b[0;31mIndentationError\u001b[0m\u001b[0;31m:\u001b[0m expected an indented block\n"
     ]
    }
   ],
   "source": [
    "# build-in function open()\n",
    "# string for file path or location of the file to opne\n",
    "# one-character string to indicate if we open the file in:\n",
    "#'r' -> read mode\n",
    "#'w' -> write mode\n",
    "#'a' -> append mode\n",
    "\n",
    "with open('/Users/Hiro/python/05_src/data/slides_data/california_housing_test.csv', 'r') as f:"
   ]
  },
  {
   "cell_type": "code",
   "execution_count": 195,
   "id": "c7920073",
   "metadata": {},
   "outputs": [],
   "source": [
    "provinces = ['BC', 'AB', 'SK', 'MB', 'ON', 'QC', 'NL', 'NB', 'NS', 'PE']\n",
    "with open('/Users/Hiro/python/02_activities/provices.txt', 'w') as province_file: \n",
    "    province_file.writelines(provinces)"
   ]
  },
  {
   "cell_type": "code",
   "execution_count": 197,
   "id": "52f71cf6",
   "metadata": {},
   "outputs": [],
   "source": [
    "import os"
   ]
  },
  {
   "cell_type": "code",
   "execution_count": 199,
   "id": "33fe1122",
   "metadata": {},
   "outputs": [
    {
     "data": {
      "text/plain": [
       "'/Users/Hiro/python/01_materials'"
      ]
     },
     "execution_count": 199,
     "metadata": {},
     "output_type": "execute_result"
    }
   ],
   "source": [
    "os.getcwd()"
   ]
  },
  {
   "cell_type": "code",
   "execution_count": 201,
   "id": "60a86186",
   "metadata": {},
   "outputs": [
    {
     "data": {
      "text/plain": [
       "['Untitled-1.ipynb', 'slides']"
      ]
     },
     "execution_count": 201,
     "metadata": {},
     "output_type": "execute_result"
    }
   ],
   "source": [
    "os.listdir()"
   ]
  },
  {
   "cell_type": "code",
   "execution_count": 204,
   "id": "47a0fe88",
   "metadata": {},
   "outputs": [],
   "source": [
    "cwd = os.getcwd()\n",
    "full_path = []\n",
    "\n",
    "for i in os.listdir():\n",
    "    temp = os.path.join(cwd, i)\n",
    "    full_path.append(temp)    \n"
   ]
  },
  {
   "cell_type": "code",
   "execution_count": 206,
   "id": "786e461f",
   "metadata": {},
   "outputs": [
    {
     "data": {
      "text/plain": [
       "['/Users/Hiro/python/01_materials/Untitled-1.ipynb',\n",
       " '/Users/Hiro/python/01_materials/slides']"
      ]
     },
     "execution_count": 206,
     "metadata": {},
     "output_type": "execute_result"
    }
   ],
   "source": [
    "full_path"
   ]
  },
  {
   "cell_type": "code",
   "execution_count": 211,
   "id": "aafebff4",
   "metadata": {},
   "outputs": [
    {
     "name": "stdout",
     "output_type": "stream",
     "text": [
      "prints.txt already exists\n"
     ]
    }
   ],
   "source": [
    "text = 'Lavender is a small purple flower.'\n",
    "\n",
    "if os.path.exists('plants.txt'):\n",
    "    print('prints.txt already exists')\n",
    "else:\n",
    "    with open('plants.txt', 'w') as f:\n",
    "        f.write(text)"
   ]
  },
  {
   "cell_type": "code",
   "execution_count": 212,
   "id": "f10c140b",
   "metadata": {},
   "outputs": [],
   "source": [
    "# class: this is a blueprint or template for creating objects, \n",
    "# define the attributes and methods that objects fo that class will have. \n",
    "\n",
    "# object: specific instance of a class, which have attributes and behaviors.\n",
    "\n",
    "# methods: funtions associaed with a class anc can be called on objects of \n",
    "# that class to perform certain actions or operations\n",
    "\n",
    "# attributes: piece of data that belongs to an object, represent the state of the object.\n",
    "\n"
   ]
  },
  {
   "cell_type": "code",
   "execution_count": 213,
   "id": "a66b0610",
   "metadata": {},
   "outputs": [],
   "source": [
    "car1_name = 'Car 1'\n",
    "car1_brand = 'Honda'\n",
    "car1_model = 'Civic'\n",
    "car1_vin = 'MSIEKAIJNI'\n",
    "\n",
    "car2_name = 'Car 2'\n",
    "car2_brand = 'VW'\n",
    "car2_model = 'Golf'\n",
    "car2_vin = 'KMLKKLJKLN'"
   ]
  },
  {
   "cell_type": "code",
   "execution_count": null,
   "id": "c30563c9",
   "metadata": {},
   "outputs": [],
   "source": [
    "class Car: \n",
    "    def __init__(self, name, brand, model, vin):\n",
    "        #__init__ automatically called when a new object of a class is created.\n",
    "        # initialize the ojbect's attributes or properties.\n",
    "\n",
    "        # self is a reference to the current instatnce of the class.\n",
    "        # first parameter in every method definition inside a class.\n",
    "        self.name = name\n",
    "        self.brand = brand\n",
    "        self.model = model\n",
    "        self.vin = vin\n",
    "\n",
    "    def honk(self):\n",
    "        print(\"beep beep\")"
   ]
  },
  {
   "cell_type": "code",
   "execution_count": 217,
   "id": "2d8cabd4",
   "metadata": {},
   "outputs": [],
   "source": [
    "hiro_car = Car('Car1', 'Honda', 'Civic', 'MSIEKAIJNI')"
   ]
  },
  {
   "cell_type": "code",
   "execution_count": 220,
   "id": "62ee008b",
   "metadata": {},
   "outputs": [
    {
     "data": {
      "text/plain": [
       "'Car1'"
      ]
     },
     "execution_count": 220,
     "metadata": {},
     "output_type": "execute_result"
    }
   ],
   "source": [
    "hiro_car.name"
   ]
  },
  {
   "cell_type": "code",
   "execution_count": 222,
   "id": "665bec80",
   "metadata": {},
   "outputs": [
    {
     "data": {
      "text/plain": [
       "'Honda'"
      ]
     },
     "execution_count": 222,
     "metadata": {},
     "output_type": "execute_result"
    }
   ],
   "source": [
    "hiro_car.brand"
   ]
  },
  {
   "cell_type": "code",
   "execution_count": 228,
   "id": "3cf7a605",
   "metadata": {},
   "outputs": [
    {
     "data": {
      "text/plain": [
       "'MSIEKAIJNI'"
      ]
     },
     "execution_count": 228,
     "metadata": {},
     "output_type": "execute_result"
    }
   ],
   "source": [
    "hiro_car.vin"
   ]
  },
  {
   "cell_type": "code",
   "execution_count": 235,
   "id": "85a3302f",
   "metadata": {},
   "outputs": [
    {
     "name": "stdout",
     "output_type": "stream",
     "text": [
      "beep beep\n"
     ]
    }
   ],
   "source": [
    "hiro_car.nonk()"
   ]
  },
  {
   "cell_type": "code",
   "execution_count": 237,
   "id": "9e2378cf",
   "metadata": {},
   "outputs": [],
   "source": [
    "import numpy as np"
   ]
  },
  {
   "cell_type": "code",
   "execution_count": 244,
   "id": "90641d45",
   "metadata": {},
   "outputs": [],
   "source": [
    "a = np.array([[1, 2, 3],\n",
    "             [3, 2, 1]])"
   ]
  },
  {
   "cell_type": "code",
   "execution_count": 246,
   "id": "9ce4f6a8",
   "metadata": {},
   "outputs": [
    {
     "name": "stdout",
     "output_type": "stream",
     "text": [
      "2\n"
     ]
    }
   ],
   "source": [
    "print(a.ndim)"
   ]
  },
  {
   "cell_type": "code",
   "execution_count": 248,
   "id": "60332066",
   "metadata": {},
   "outputs": [
    {
     "name": "stdout",
     "output_type": "stream",
     "text": [
      "(2, 3)\n"
     ]
    }
   ],
   "source": [
    "print(a.shape)"
   ]
  },
  {
   "cell_type": "code",
   "execution_count": 250,
   "id": "67b75768",
   "metadata": {},
   "outputs": [
    {
     "name": "stdout",
     "output_type": "stream",
     "text": [
      "6\n"
     ]
    }
   ],
   "source": [
    "print(a.size)"
   ]
  },
  {
   "cell_type": "code",
   "execution_count": 252,
   "id": "044e252b",
   "metadata": {},
   "outputs": [
    {
     "name": "stdout",
     "output_type": "stream",
     "text": [
      "int64\n"
     ]
    }
   ],
   "source": [
    "print(a.dtype)"
   ]
  },
  {
   "cell_type": "code",
   "execution_count": 259,
   "id": "89bfc011",
   "metadata": {},
   "outputs": [
    {
     "data": {
      "text/plain": [
       "array([[[0., 0.],\n",
       "        [0., 0.],\n",
       "        [0., 0.]],\n",
       "\n",
       "       [[0., 0.],\n",
       "        [0., 0.],\n",
       "        [0., 0.]]])"
      ]
     },
     "execution_count": 259,
     "metadata": {},
     "output_type": "execute_result"
    }
   ],
   "source": [
    "np.zeros((2, 3, 2))"
   ]
  },
  {
   "cell_type": "code",
   "execution_count": 260,
   "id": "23a209de",
   "metadata": {},
   "outputs": [
    {
     "data": {
      "text/plain": [
       "array([[1, 1, 1],\n",
       "       [1, 1, 1]])"
      ]
     },
     "execution_count": 260,
     "metadata": {},
     "output_type": "execute_result"
    }
   ],
   "source": [
    "np.ones_like(a)"
   ]
  },
  {
   "cell_type": "code",
   "execution_count": 264,
   "id": "64d6e096",
   "metadata": {},
   "outputs": [
    {
     "data": {
      "text/plain": [
       "array([1, 3, 5, 7, 9])"
      ]
     },
     "execution_count": 264,
     "metadata": {},
     "output_type": "execute_result"
    }
   ],
   "source": [
    "np.arange(1, 10, 2)"
   ]
  },
  {
   "cell_type": "code",
   "execution_count": 265,
   "id": "dec18a61",
   "metadata": {},
   "outputs": [
    {
     "data": {
      "text/plain": [
       "array([1, 2, 3, 4, 5, 6, 7, 8, 9])"
      ]
     },
     "execution_count": 265,
     "metadata": {},
     "output_type": "execute_result"
    }
   ],
   "source": [
    "np.arange(1, 10, 1)"
   ]
  },
  {
   "cell_type": "code",
   "execution_count": 269,
   "id": "b6848c00",
   "metadata": {},
   "outputs": [
    {
     "data": {
      "text/plain": [
       "array([1, 2, 3, 4])"
      ]
     },
     "execution_count": 269,
     "metadata": {},
     "output_type": "execute_result"
    }
   ],
   "source": [
    "np.arange(1, 5, 1)"
   ]
  },
  {
   "cell_type": "code",
   "execution_count": 270,
   "id": "53d9c3b8",
   "metadata": {},
   "outputs": [
    {
     "data": {
      "text/plain": [
       "array([0. , 0.1, 0.2, 0.3, 0.4, 0.5, 0.6, 0.7, 0.8, 0.9])"
      ]
     },
     "execution_count": 270,
     "metadata": {},
     "output_type": "execute_result"
    }
   ],
   "source": [
    "np.arange(0, 1, 0.1)"
   ]
  },
  {
   "cell_type": "code",
   "execution_count": 278,
   "id": "d9c85b55",
   "metadata": {},
   "outputs": [
    {
     "data": {
      "text/plain": [
       "array([[6, 9, 6, 1],\n",
       "       [1, 2, 8, 7],\n",
       "       [3, 5, 6, 3]])"
      ]
     },
     "execution_count": 278,
     "metadata": {},
     "output_type": "execute_result"
    }
   ],
   "source": [
    "np.random.seed(1)\n",
    "np.random.randint(1, 10, (3, 4))"
   ]
  },
  {
   "cell_type": "code",
   "execution_count": 280,
   "id": "3b5c916c",
   "metadata": {},
   "outputs": [
    {
     "data": {
      "text/plain": [
       "array([10, 10, 10, 10, 10])"
      ]
     },
     "execution_count": 280,
     "metadata": {},
     "output_type": "execute_result"
    }
   ],
   "source": [
    "np.repeat(10, 5)"
   ]
  },
  {
   "cell_type": "code",
   "execution_count": 282,
   "id": "390f4a2e",
   "metadata": {},
   "outputs": [
    {
     "data": {
      "text/plain": [
       "array([1, 1, 1, 1, 1, 2, 2, 2, 2, 2, 3, 3, 3, 3, 3, 4, 4, 4, 4, 4, 5, 5,\n",
       "       5, 5, 5])"
      ]
     },
     "execution_count": 282,
     "metadata": {},
     "output_type": "execute_result"
    }
   ],
   "source": [
    "onedim_arr = np.array([1, 2, 3, 4, 5])\n",
    "multidim_arr = np.repeat(onedim_arr, 5)\n",
    "multidim_arr"
   ]
  },
  {
   "cell_type": "code",
   "execution_count": 284,
   "id": "b660baf8",
   "metadata": {},
   "outputs": [
    {
     "data": {
      "text/plain": [
       "array([[1, 2, 3, 4, 5],\n",
       "       [1, 2, 3, 4, 5],\n",
       "       [1, 2, 3, 4, 5],\n",
       "       [1, 2, 3, 4, 5],\n",
       "       [1, 2, 3, 4, 5]])"
      ]
     },
     "execution_count": 284,
     "metadata": {},
     "output_type": "execute_result"
    }
   ],
   "source": [
    "multidim_arr = np.tile(onedim_arr, (5, 1))\n",
    "multidim_arr"
   ]
  },
  {
   "cell_type": "code",
   "execution_count": 285,
   "id": "7ba9c647",
   "metadata": {},
   "outputs": [
    {
     "data": {
      "text/plain": [
       "array([[1, 2, 3, 4, 5, 1, 2, 3, 4, 5, 1, 2, 3, 4, 5],\n",
       "       [1, 2, 3, 4, 5, 1, 2, 3, 4, 5, 1, 2, 3, 4, 5],\n",
       "       [1, 2, 3, 4, 5, 1, 2, 3, 4, 5, 1, 2, 3, 4, 5]])"
      ]
     },
     "execution_count": 285,
     "metadata": {},
     "output_type": "execute_result"
    }
   ],
   "source": [
    "multidim_arr = np.tile(onedim_arr, (3, 3))\n",
    "multidim_arr"
   ]
  },
  {
   "cell_type": "code",
   "execution_count": 286,
   "id": "11436ae9",
   "metadata": {},
   "outputs": [
    {
     "data": {
      "text/plain": [
       "array([[ 5,  4,  3,  2,  1,  0],\n",
       "       [10,  8,  6,  4,  2,  0]])"
      ]
     },
     "execution_count": 286,
     "metadata": {},
     "output_type": "execute_result"
    }
   ],
   "source": [
    "b = np.array([[5, 4, 3, 2, 1, 0],\n",
    "              [10, 8, 6, 4, 2, 0]])\n",
    "\n",
    "b"
   ]
  },
  {
   "cell_type": "code",
   "execution_count": 288,
   "id": "bcab8e68",
   "metadata": {},
   "outputs": [
    {
     "data": {
      "text/plain": [
       "array([[ 5, 10],\n",
       "       [ 4,  8],\n",
       "       [ 3,  6],\n",
       "       [ 2,  4],\n",
       "       [ 1,  2],\n",
       "       [ 0,  0]])"
      ]
     },
     "execution_count": 288,
     "metadata": {},
     "output_type": "execute_result"
    }
   ],
   "source": [
    "b.T"
   ]
  },
  {
   "cell_type": "code",
   "execution_count": null,
   "id": "cd337543",
   "metadata": {},
   "outputs": [],
   "source": []
  },
  {
   "cell_type": "code",
   "execution_count": 290,
   "id": "b5249710",
   "metadata": {},
   "outputs": [
    {
     "data": {
      "text/plain": [
       "array([[ 5,  4,  3],\n",
       "       [ 2,  1,  0],\n",
       "       [10,  8,  6],\n",
       "       [ 4,  2,  0]])"
      ]
     },
     "execution_count": 290,
     "metadata": {},
     "output_type": "execute_result"
    }
   ],
   "source": [
    "b.reshape(4, 3)"
   ]
  },
  {
   "cell_type": "code",
   "execution_count": 292,
   "id": "88de8bc0",
   "metadata": {},
   "outputs": [
    {
     "data": {
      "text/plain": [
       "array([ 5,  4,  3,  2,  1,  0, 10,  8,  6,  4,  2,  0])"
      ]
     },
     "execution_count": 292,
     "metadata": {},
     "output_type": "execute_result"
    }
   ],
   "source": [
    "b.flatten()"
   ]
  },
  {
   "cell_type": "code",
   "execution_count": 294,
   "id": "07425bf0",
   "metadata": {},
   "outputs": [
    {
     "data": {
      "text/plain": [
       "array([[ 5,  4,  3,  2,  1,  0,  1,  2,  3],\n",
       "       [10,  8,  6,  4,  2,  0,  3,  2,  1]])"
      ]
     },
     "execution_count": 294,
     "metadata": {},
     "output_type": "execute_result"
    }
   ],
   "source": [
    "np.hstack((b, a))"
   ]
  },
  {
   "cell_type": "code",
   "execution_count": 295,
   "id": "273925e3",
   "metadata": {},
   "outputs": [
    {
     "data": {
      "text/plain": [
       "array([[ 5,  4,  3],\n",
       "       [ 2,  1,  0],\n",
       "       [10,  8,  6],\n",
       "       [ 4,  2,  0],\n",
       "       [ 1,  2,  3],\n",
       "       [ 3,  2,  1]])"
      ]
     },
     "execution_count": 295,
     "metadata": {},
     "output_type": "execute_result"
    }
   ],
   "source": [
    "np.vstack((b.reshape(4,3), a))"
   ]
  },
  {
   "cell_type": "code",
   "execution_count": 297,
   "id": "61831c24",
   "metadata": {},
   "outputs": [
    {
     "data": {
      "text/plain": [
       "array([ 5, 10, 15, 20])"
      ]
     },
     "execution_count": 297,
     "metadata": {},
     "output_type": "execute_result"
    }
   ],
   "source": [
    "arr1 = np.array([5, 10, 15, 20])\n",
    "arr1"
   ]
  },
  {
   "cell_type": "code",
   "execution_count": 299,
   "id": "fc1f3095",
   "metadata": {},
   "outputs": [],
   "source": [
    "arr2 = np.arange(5, 9)"
   ]
  },
  {
   "cell_type": "code",
   "execution_count": null,
   "id": "519fc34e",
   "metadata": {},
   "outputs": [
    {
     "data": {
      "text/plain": [
       "array([ 0,  4,  8, 12])"
      ]
     },
     "execution_count": 300,
     "metadata": {},
     "output_type": "execute_result"
    }
   ],
   "source": [
    "arr1 - arr2\n"
   ]
  },
  {
   "cell_type": "code",
   "execution_count": 302,
   "id": "74fb4902",
   "metadata": {},
   "outputs": [
    {
     "data": {
      "text/plain": [
       "array([10, 20, 30, 40])"
      ]
     },
     "execution_count": 302,
     "metadata": {},
     "output_type": "execute_result"
    }
   ],
   "source": [
    "arr1*2"
   ]
  },
  {
   "cell_type": "code",
   "execution_count": 304,
   "id": "c4614492",
   "metadata": {},
   "outputs": [
    {
     "ename": "ValueError",
     "evalue": "operands could not be broadcast together with shapes (4,) (2,) ",
     "output_type": "error",
     "traceback": [
      "\u001b[0;31m---------------------------------------------------------------------------\u001b[0m",
      "\u001b[0;31mValueError\u001b[0m                                Traceback (most recent call last)",
      "Cell \u001b[0;32mIn[304], line 1\u001b[0m\n\u001b[0;32m----> 1\u001b[0m \u001b[43marr2\u001b[49m\u001b[43m \u001b[49m\u001b[38;5;241;43m+\u001b[39;49m\u001b[43m \u001b[49m\u001b[43mnp\u001b[49m\u001b[38;5;241;43m.\u001b[39;49m\u001b[43marray\u001b[49m\u001b[43m(\u001b[49m\u001b[43m[\u001b[49m\u001b[38;5;241;43m1\u001b[39;49m\u001b[43m,\u001b[49m\u001b[43m \u001b[49m\u001b[38;5;241;43m2\u001b[39;49m\u001b[43m]\u001b[49m\u001b[43m)\u001b[49m\n",
      "\u001b[0;31mValueError\u001b[0m: operands could not be broadcast together with shapes (4,) (2,) "
     ]
    }
   ],
   "source": [
    "arr2 + np.array([1, 2])"
   ]
  },
  {
   "cell_type": "code",
   "execution_count": 306,
   "id": "6b22b002",
   "metadata": {},
   "outputs": [
    {
     "data": {
      "text/plain": [
       "20"
      ]
     },
     "execution_count": 306,
     "metadata": {},
     "output_type": "execute_result"
    }
   ],
   "source": [
    "arr1.max()"
   ]
  },
  {
   "cell_type": "code",
   "execution_count": 307,
   "id": "65f7eea1",
   "metadata": {},
   "outputs": [
    {
     "data": {
      "text/plain": [
       "50"
      ]
     },
     "execution_count": 307,
     "metadata": {},
     "output_type": "execute_result"
    }
   ],
   "source": [
    "arr1.sum()"
   ]
  },
  {
   "cell_type": "code",
   "execution_count": 309,
   "id": "2fa4d7a4",
   "metadata": {},
   "outputs": [
    {
     "data": {
      "text/plain": [
       "12.5"
      ]
     },
     "execution_count": 309,
     "metadata": {},
     "output_type": "execute_result"
    }
   ],
   "source": [
    "arr1.mean()"
   ]
  },
  {
   "cell_type": "code",
   "execution_count": 310,
   "id": "305dd6a0",
   "metadata": {},
   "outputs": [
    {
     "data": {
      "text/plain": [
       "12.5"
      ]
     },
     "execution_count": 310,
     "metadata": {},
     "output_type": "execute_result"
    }
   ],
   "source": [
    "np.median(arr1)"
   ]
  },
  {
   "cell_type": "code",
   "execution_count": 315,
   "id": "6a0d4808",
   "metadata": {},
   "outputs": [
    {
     "data": {
      "text/plain": [
       "array([[  0,  10,  20,  30],\n",
       "       [ 40,  50,  60,  70],\n",
       "       [ 80,  90, 100, 110]])"
      ]
     },
     "execution_count": 315,
     "metadata": {},
     "output_type": "execute_result"
    }
   ],
   "source": [
    "tens = np.arange(0, 120, 10).reshape(3, 4)\n",
    "tens"
   ]
  },
  {
   "cell_type": "code",
   "execution_count": 320,
   "id": "a4ee0fbb",
   "metadata": {},
   "outputs": [
    {
     "data": {
      "text/plain": [
       "array([ -5, -10, -15, -20])"
      ]
     },
     "execution_count": 320,
     "metadata": {},
     "output_type": "execute_result"
    }
   ],
   "source": [
    "horizontal = np.array([-5, -10, -15, -20])\n",
    "horizontal"
   ]
  },
  {
   "cell_type": "code",
   "execution_count": 324,
   "id": "5e76ecf7",
   "metadata": {},
   "outputs": [
    {
     "data": {
      "text/plain": [
       "array([[100],\n",
       "       [200],\n",
       "       [300]])"
      ]
     },
     "execution_count": 324,
     "metadata": {},
     "output_type": "execute_result"
    }
   ],
   "source": [
    "vertical = np.array([[100],\n",
    "                     [200],\n",
    "                     [300]])\n",
    "\n",
    "vertical"
   ]
  },
  {
   "cell_type": "code",
   "execution_count": 325,
   "id": "8630a4b9",
   "metadata": {},
   "outputs": [
    {
     "data": {
      "text/plain": [
       "array([[ 95, 100, 105, 110],\n",
       "       [235, 240, 245, 250],\n",
       "       [375, 380, 385, 390]])"
      ]
     },
     "execution_count": 325,
     "metadata": {},
     "output_type": "execute_result"
    }
   ],
   "source": [
    "tens + horizontal + vertical"
   ]
  },
  {
   "cell_type": "code",
   "execution_count": 326,
   "id": "341ffd40",
   "metadata": {},
   "outputs": [],
   "source": [
    "# axis = 0: colum-wise operation (down the rows)\n",
    "# axis = 1: row-wise operation (across the columns)"
   ]
  },
  {
   "cell_type": "code",
   "execution_count": 327,
   "id": "f805f5a9",
   "metadata": {},
   "outputs": [
    {
     "data": {
      "text/plain": [
       "array([40., 50., 60., 70.])"
      ]
     },
     "execution_count": 327,
     "metadata": {},
     "output_type": "execute_result"
    }
   ],
   "source": [
    "tens.mean(axis=0)"
   ]
  },
  {
   "cell_type": "code",
   "execution_count": 329,
   "id": "d9dd3992",
   "metadata": {},
   "outputs": [
    {
     "data": {
      "text/plain": [
       "array([15., 55., 95.])"
      ]
     },
     "execution_count": 329,
     "metadata": {},
     "output_type": "execute_result"
    }
   ],
   "source": [
    "tens.mean(axis=1)"
   ]
  },
  {
   "cell_type": "code",
   "execution_count": 331,
   "id": "c9152b4c",
   "metadata": {},
   "outputs": [
    {
     "data": {
      "text/plain": [
       "array([ 5, 10, 15, 20])"
      ]
     },
     "execution_count": 331,
     "metadata": {},
     "output_type": "execute_result"
    }
   ],
   "source": [
    "arr1"
   ]
  },
  {
   "cell_type": "code",
   "execution_count": 333,
   "id": "9f5fbeb0",
   "metadata": {},
   "outputs": [
    {
     "data": {
      "text/plain": [
       "10"
      ]
     },
     "execution_count": 333,
     "metadata": {},
     "output_type": "execute_result"
    }
   ],
   "source": [
    "arr1[1]"
   ]
  },
  {
   "cell_type": "code",
   "execution_count": 335,
   "id": "eda56fb2",
   "metadata": {},
   "outputs": [
    {
     "data": {
      "text/plain": [
       "array([10, 15])"
      ]
     },
     "execution_count": 335,
     "metadata": {},
     "output_type": "execute_result"
    }
   ],
   "source": [
    "arr1[1:3]"
   ]
  },
  {
   "cell_type": "code",
   "execution_count": 337,
   "id": "dfc093d5",
   "metadata": {},
   "outputs": [
    {
     "data": {
      "text/plain": [
       "60"
      ]
     },
     "execution_count": 337,
     "metadata": {},
     "output_type": "execute_result"
    }
   ],
   "source": [
    "tens[1, 2]"
   ]
  },
  {
   "cell_type": "code",
   "execution_count": 339,
   "id": "9b08ea6d",
   "metadata": {},
   "outputs": [
    {
     "data": {
      "text/plain": [
       "array([[  0,  10,  20,  30],\n",
       "       [ 40,  50,  60,  70],\n",
       "       [ 80,  90, 100, 110]])"
      ]
     },
     "execution_count": 339,
     "metadata": {},
     "output_type": "execute_result"
    }
   ],
   "source": [
    "tens"
   ]
  },
  {
   "cell_type": "code",
   "execution_count": 342,
   "id": "a436b4af",
   "metadata": {},
   "outputs": [
    {
     "data": {
      "text/plain": [
       "array([ 0, 10, 20, 30])"
      ]
     },
     "execution_count": 342,
     "metadata": {},
     "output_type": "execute_result"
    }
   ],
   "source": [
    "tens[0]"
   ]
  },
  {
   "cell_type": "code",
   "execution_count": 346,
   "id": "f21eb581",
   "metadata": {},
   "outputs": [
    {
     "data": {
      "text/plain": [
       "array([ 0, 40, 80])"
      ]
     },
     "execution_count": 346,
     "metadata": {},
     "output_type": "execute_result"
    }
   ],
   "source": [
    "tens[:,0]"
   ]
  },
  {
   "cell_type": "code",
   "execution_count": 350,
   "id": "a62b2c76",
   "metadata": {},
   "outputs": [],
   "source": [
    "matrix1 = np.array([1, 4, 12])"
   ]
  },
  {
   "cell_type": "code",
   "execution_count": 352,
   "id": "595f34f2",
   "metadata": {},
   "outputs": [],
   "source": [
    "matrix2 = matrix1"
   ]
  },
  {
   "cell_type": "code",
   "execution_count": null,
   "id": "cfae2f8c",
   "metadata": {},
   "outputs": [
    {
     "data": {
      "text/plain": [
       "array([ 1,  4, 12])"
      ]
     },
     "execution_count": 354,
     "metadata": {},
     "output_type": "execute_result"
    }
   ],
   "source": [
    "matrix2\n",
    "\n"
   ]
  },
  {
   "cell_type": "code",
   "execution_count": 357,
   "id": "8496e0e2",
   "metadata": {},
   "outputs": [
    {
     "data": {
      "text/plain": [
       "array([ 1,  4, 12])"
      ]
     },
     "execution_count": 357,
     "metadata": {},
     "output_type": "execute_result"
    }
   ],
   "source": [
    "matrix3 = matrix1.copy()\n",
    "matrix3"
   ]
  },
  {
   "cell_type": "code",
   "execution_count": 359,
   "id": "55005f5a",
   "metadata": {},
   "outputs": [],
   "source": [
    "matrix1[0] = 1000"
   ]
  },
  {
   "cell_type": "code",
   "execution_count": 361,
   "id": "b2863bc4",
   "metadata": {},
   "outputs": [
    {
     "data": {
      "text/plain": [
       "array([1000,    4,   12])"
      ]
     },
     "execution_count": 361,
     "metadata": {},
     "output_type": "execute_result"
    }
   ],
   "source": [
    "matrix2"
   ]
  },
  {
   "cell_type": "code",
   "execution_count": 362,
   "id": "c243c3a8",
   "metadata": {},
   "outputs": [
    {
     "data": {
      "text/plain": [
       "array([ 1,  4, 12])"
      ]
     },
     "execution_count": 362,
     "metadata": {},
     "output_type": "execute_result"
    }
   ],
   "source": [
    "matrix3"
   ]
  }
 ],
 "metadata": {
  "kernelspec": {
   "display_name": "dsi_participant",
   "language": "python",
   "name": "python3"
  },
  "language_info": {
   "codemirror_mode": {
    "name": "ipython",
    "version": 3
   },
   "file_extension": ".py",
   "mimetype": "text/x-python",
   "name": "python",
   "nbconvert_exporter": "python",
   "pygments_lexer": "ipython3",
   "version": "3.9.18"
  }
 },
 "nbformat": 4,
 "nbformat_minor": 5
}
