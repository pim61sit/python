{
 "cells": [
  {
   "cell_type": "markdown",
   "metadata": {
    "id": "QmzeljDgm4Ll"
   },
   "source": [
    "# Assignment #2: Efficacy Analysis of a Hypothetical Arthritis Drug\n",
    "\n",
    "**Objective**: In this assignment, your task is to utilize Python programming skills to evaluate the effectiveness of a fictional medication designed to reduce inflammation caused by arthritis flare-ups.\n",
    "\n",
    "**Background**: Imagine a clinical trial where 60 patients were administered a new drug for arthritis. Data from this trial has been recorded in a series of CSV files. Evaluate the effectiveness of a fictional medication designed to reduce inflammation caused by arthritis flare-ups.\n",
    "\n",
    "**Data Structure**:\n",
    "- Each CSV file corresponds to a specific check-in session with the patients.\n",
    "- There are 12 such CSV files, reflecting 12 different sessions where patients reported their experiences.\n",
    "- Inside each file:\n",
    "  - Rows: Each of the 60 rows represents a unique patient.\n",
    "  - Columns: Each of the 40 columns corresponds to a day, detailing the number of inflammation flare-ups the patient experienced on that day.\n",
    "\n",
    "**Your Role**: Analyze this data to determine how effective the new drug has been in managing arthritis inflammation across the trial period."
   ]
  },
  {
   "cell_type": "markdown",
   "metadata": {},
   "source": [
    "## Submission Information\n",
    "\n",
    "🚨 **Please review our [Assignment Submission Guide](https://github.com/UofT-DSI/onboarding/blob/main/onboarding_documents/submissions.md)** 🚨 for detailed instructions on how to format, branch, and submit your work. Following these guidelines is crucial for your submissions to be evaluated correctly.\n",
    "\n",
    "### Submission Parameters:\n",
    "* Submission Due Date: `11:59 PM - May 11, 2025`\n",
    "* The branch name for your repo should be: `assignment-2`\n",
    "* What to submit for this assignment:\n",
    "    * This Jupyter Notebook (assignment_2.ipynb) should be populated and should be the only change in your pull request.\n",
    "* What the pull request link should look like for this assignment: `https://github.com/<your_github_username>/python/pull/<pr_id>`\n",
    "    * Open a private window in your browser. Copy and paste the link to your pull request into the address bar. Make sure you can see your pull request properly. This helps the technical facilitator and learning support staff review your submission easily.\n",
    "\n",
    "Checklist:\n",
    "- [ ] Created a branch with the correct naming convention.\n",
    "- [ ] Ensured that the repository is public.\n",
    "- [ ] Reviewed the PR description guidelines and adhered to them.\n",
    "- [ ] Verify that the link is accessible in a private browser window.\n",
    "\n",
    "If you encounter any difficulties or have questions, please don't hesitate to reach out to our team via our Slack at `#dc-help`. Our Technical Facilitators and Learning Support staff are here to help you navigate any challenges."
   ]
  },
  {
   "cell_type": "markdown",
   "metadata": {
    "id": "yMsC2qsiKNP8"
   },
   "source": [
    "**The file is located under `python/05_src/data/assignment_2_data/`. The filtered list has been made for you `all_paths` below.**\n",
    "\n"
   ]
  },
  {
   "cell_type": "markdown",
   "metadata": {
    "id": "JhJAJb1m-nkn"
   },
   "source": [
    "## 1. Reading and Displaying Data from the First File\n",
    "\n",
    "With the list of the relevant `inflammation_xx.csv` file paths above, write a program to read the `inflammation_xx.csv` files, and display the contents of the first file in this list.\n",
    "\n",
    "**Hint**: Remember to use appropriate Python file handling and data reading methods. If you need guidance on how to handle CSV files in Python, refer to the relevant sections in your Python learning resources."
   ]
  },
  {
   "cell_type": "code",
   "execution_count": 1,
   "metadata": {},
   "outputs": [],
   "source": [
    "import os"
   ]
  },
  {
   "cell_type": "code",
   "execution_count": 2,
   "metadata": {},
   "outputs": [
    {
     "data": {
      "text/plain": [
       "'/Users/Hiro/python/02_activities/assignments'"
      ]
     },
     "execution_count": 2,
     "metadata": {},
     "output_type": "execute_result"
    }
   ],
   "source": [
    "os.getcwd()"
   ]
  },
  {
   "cell_type": "code",
   "execution_count": 3,
   "metadata": {},
   "outputs": [],
   "source": [
    "new_directory = \"/Users/Hiro/python/05_src/data/assignment_2_data\"\n",
    "os.chdir(new_directory)"
   ]
  },
  {
   "cell_type": "code",
   "execution_count": 4,
   "metadata": {},
   "outputs": [
    {
     "data": {
      "text/plain": [
       "'/Users/Hiro/python/05_src/data/assignment_2_data'"
      ]
     },
     "execution_count": 4,
     "metadata": {},
     "output_type": "execute_result"
    }
   ],
   "source": [
    "os.getcwd()"
   ]
  },
  {
   "cell_type": "code",
   "execution_count": 5,
   "metadata": {},
   "outputs": [
    {
     "data": {
      "text/plain": [
       "['inflammation_09.csv',\n",
       " 'inflammation_08.csv',\n",
       " 'small_01.csv',\n",
       " 'inflammation_01.csv',\n",
       " 'inflammation_03.csv',\n",
       " 'small_02.csv',\n",
       " 'small_03.csv',\n",
       " 'inflammation_02.csv',\n",
       " 'inflammation_06.csv',\n",
       " 'inflammation_12.csv',\n",
       " 'inflammation_07.csv',\n",
       " 'inflammation_11.csv',\n",
       " 'inflammation_05.csv',\n",
       " 'inflammation_04.csv',\n",
       " 'inflammation_10.csv']"
      ]
     },
     "execution_count": 5,
     "metadata": {},
     "output_type": "execute_result"
    }
   ],
   "source": [
    "os.listdir()"
   ]
  },
  {
   "cell_type": "code",
   "execution_count": 6,
   "metadata": {},
   "outputs": [],
   "source": [
    "cwd = os.getcwd()\n",
    "all_paths = []\n",
    "\n",
    "for i in os.listdir():\n",
    "    temp = os.path.join(cwd, i)\n",
    "    all_paths.append(temp)"
   ]
  },
  {
   "cell_type": "code",
   "execution_count": 7,
   "metadata": {},
   "outputs": [
    {
     "data": {
      "text/plain": [
       "['/Users/Hiro/python/05_src/data/assignment_2_data/inflammation_09.csv',\n",
       " '/Users/Hiro/python/05_src/data/assignment_2_data/inflammation_08.csv',\n",
       " '/Users/Hiro/python/05_src/data/assignment_2_data/small_01.csv',\n",
       " '/Users/Hiro/python/05_src/data/assignment_2_data/inflammation_01.csv',\n",
       " '/Users/Hiro/python/05_src/data/assignment_2_data/inflammation_03.csv',\n",
       " '/Users/Hiro/python/05_src/data/assignment_2_data/small_02.csv',\n",
       " '/Users/Hiro/python/05_src/data/assignment_2_data/small_03.csv',\n",
       " '/Users/Hiro/python/05_src/data/assignment_2_data/inflammation_02.csv',\n",
       " '/Users/Hiro/python/05_src/data/assignment_2_data/inflammation_06.csv',\n",
       " '/Users/Hiro/python/05_src/data/assignment_2_data/inflammation_12.csv',\n",
       " '/Users/Hiro/python/05_src/data/assignment_2_data/inflammation_07.csv',\n",
       " '/Users/Hiro/python/05_src/data/assignment_2_data/inflammation_11.csv',\n",
       " '/Users/Hiro/python/05_src/data/assignment_2_data/inflammation_05.csv',\n",
       " '/Users/Hiro/python/05_src/data/assignment_2_data/inflammation_04.csv',\n",
       " '/Users/Hiro/python/05_src/data/assignment_2_data/inflammation_10.csv']"
      ]
     },
     "execution_count": 7,
     "metadata": {},
     "output_type": "execute_result"
    }
   ],
   "source": [
    "all_paths"
   ]
  },
  {
   "cell_type": "code",
   "execution_count": 8,
   "metadata": {},
   "outputs": [],
   "source": [
    "import csv"
   ]
  },
  {
   "cell_type": "code",
   "execution_count": 9,
   "metadata": {},
   "outputs": [
    {
     "data": {
      "text/plain": [
       "'/Users/Hiro/python/05_src/data/assignment_2_data'"
      ]
     },
     "execution_count": 9,
     "metadata": {},
     "output_type": "execute_result"
    }
   ],
   "source": [
    "os.getcwd()"
   ]
  },
  {
   "cell_type": "code",
   "execution_count": 10,
   "metadata": {},
   "outputs": [
    {
     "data": {
      "text/plain": [
       "['inflammation_09.csv',\n",
       " 'inflammation_08.csv',\n",
       " 'small_01.csv',\n",
       " 'inflammation_01.csv',\n",
       " 'inflammation_03.csv',\n",
       " 'small_02.csv',\n",
       " 'small_03.csv',\n",
       " 'inflammation_02.csv',\n",
       " 'inflammation_06.csv',\n",
       " 'inflammation_12.csv',\n",
       " 'inflammation_07.csv',\n",
       " 'inflammation_11.csv',\n",
       " 'inflammation_05.csv',\n",
       " 'inflammation_04.csv',\n",
       " 'inflammation_10.csv']"
      ]
     },
     "execution_count": 10,
     "metadata": {},
     "output_type": "execute_result"
    }
   ],
   "source": [
    "os.listdir()"
   ]
  },
  {
   "cell_type": "code",
   "execution_count": 11,
   "metadata": {
    "id": "n0m48JsS-nMC"
   },
   "outputs": [
    {
     "name": "stdout",
     "output_type": "stream",
     "text": [
      "['0,0,0,2,4,5,5,4,4,6,8,2,3,8,7,13,8,14,17,6,5,15,14,13,8,6,9,9,11,10,3,5,3,1,5,4,4,3,2,1\\n', '0,1,0,1,3,1,5,3,8,5,8,7,11,4,14,13,9,6,15,12,6,5,11,11,14,5,6,6,5,5,8,5,5,4,5,2,2,3,2,1\\n', '0,1,2,2,4,1,4,2,7,5,10,6,12,3,9,9,9,5,6,12,14,19,9,6,7,6,14,3,11,2,2,4,3,7,4,5,3,0,2,1\\n', '0,1,1,2,2,1,5,3,5,6,3,7,9,8,11,9,4,16,4,17,13,12,8,4,9,13,5,6,8,10,3,8,2,4,6,2,2,3,0,1\\n', '0,1,2,3,3,5,3,4,4,6,8,7,10,11,6,13,4,6,5,6,10,10,17,6,9,14,13,5,3,9,9,3,7,1,6,1,3,0,1,1\\n', '0,1,0,2,4,2,4,5,5,6,4,4,5,4,10,10,10,11,11,4,18,11,14,14,12,5,13,4,7,11,10,4,2,5,6,1,2,3,0,1\\n', '0,0,0,3,2,4,3,1,6,4,2,6,7,8,10,6,16,10,15,5,16,18,16,4,9,13,7,11,6,7,7,6,5,6,5,4,2,1,2,1\\n', '0,0,1,2,1,1,2,1,8,8,10,7,8,7,6,14,11,9,4,8,6,9,18,6,7,12,4,6,8,3,3,8,2,1,3,1,3,3,0,0\\n', '0,0,2,1,3,1,2,7,2,8,7,7,9,13,5,10,9,10,5,16,7,4,8,6,10,13,11,5,8,4,3,3,5,5,4,5,3,3,1,0\\n', '0,1,1,2,3,5,1,4,5,6,4,6,9,13,11,7,5,8,9,12,8,6,4,14,14,14,14,11,4,8,6,7,3,1,1,5,1,3,1,0\\n', '0,1,0,3,1,2,4,4,6,3,8,9,4,10,10,3,12,17,18,15,13,19,10,8,8,5,12,10,11,4,7,3,7,6,3,5,1,3,2,0\\n', '0,1,0,1,1,3,1,5,8,3,5,5,12,6,6,10,14,11,7,18,19,16,5,15,4,15,4,7,10,11,2,3,4,1,5,2,1,0,1,0\\n', '0,1,0,1,4,2,2,2,2,7,4,4,7,3,6,6,15,10,17,17,20,7,6,16,4,7,9,13,3,11,5,5,7,2,5,3,1,3,1,0\\n', '0,1,0,3,1,1,2,7,6,5,8,2,11,4,3,10,8,9,18,6,20,11,14,9,9,10,4,6,3,10,7,7,4,7,2,5,3,1,2,0\\n', '0,1,0,3,4,3,1,4,3,7,3,6,7,3,11,3,6,7,14,12,18,12,13,9,11,13,13,7,8,4,10,6,7,2,6,2,1,3,0,1\\n', '0,0,0,0,4,1,3,7,5,6,2,6,9,6,3,5,13,14,16,18,9,13,4,4,16,9,11,6,12,2,8,4,4,3,6,3,3,2,2,0\\n', '0,0,0,1,4,4,1,2,8,7,4,9,10,12,11,13,9,10,12,16,7,14,16,17,15,10,12,11,10,5,10,4,7,5,3,1,3,3,0,1\\n', '0,1,1,0,1,5,6,6,2,9,10,7,5,11,9,15,8,11,4,8,15,19,4,13,5,9,11,3,9,10,10,2,7,1,3,1,3,2,1,0\\n', '0,0,2,3,4,3,3,6,6,2,6,11,11,10,10,6,9,5,9,17,7,8,9,13,11,9,10,8,5,7,3,4,6,2,4,2,3,1,1,0\\n', '0,1,2,3,2,3,3,3,5,9,6,9,10,9,14,10,6,4,16,14,6,8,12,7,15,14,7,8,3,10,2,6,2,4,2,1,2,3,2,0\\n', '0,1,2,1,1,4,4,1,5,2,9,4,9,11,9,3,5,13,13,6,16,10,12,16,10,3,10,8,4,7,5,9,5,5,1,5,3,2,2,1\\n', '0,0,0,1,4,4,6,2,4,8,8,4,5,6,14,12,7,5,8,14,5,7,8,17,15,6,5,9,8,8,8,5,2,3,4,1,4,0,1,1\\n', '0,1,1,3,2,2,6,4,5,9,7,8,4,13,3,11,7,7,17,8,12,11,9,6,13,14,11,13,10,3,5,4,7,6,3,4,1,3,1,1\\n', '0,0,2,2,3,4,5,1,7,6,5,6,6,8,10,4,16,15,5,7,6,9,14,11,14,8,6,10,5,11,8,4,5,3,2,1,4,3,1,1\\n', '0,1,1,1,2,2,1,3,5,6,5,6,7,5,8,12,9,5,4,7,12,13,7,14,15,9,3,11,7,9,4,6,2,1,6,1,3,3,2,1\\n', '0,1,0,0,4,5,3,5,5,8,8,5,9,7,8,5,4,4,18,14,16,13,12,7,7,12,12,9,10,6,10,3,2,1,4,3,3,0,2,0\\n', '0,1,0,3,3,5,1,2,3,5,5,5,5,9,11,8,5,6,15,13,9,14,13,6,6,4,6,13,9,6,9,4,6,2,4,3,3,2,0,1\\n', '0,0,0,3,4,5,5,2,3,2,4,7,4,5,4,13,12,14,12,12,11,8,17,17,5,3,7,4,9,2,4,7,7,7,6,1,1,1,2,0\\n', '0,1,0,0,1,5,5,6,3,3,8,9,9,6,7,14,14,9,18,6,12,13,10,12,16,5,10,13,9,7,9,2,6,7,5,3,2,1,1,1\\n', '0,0,2,3,3,2,6,2,5,8,5,10,5,8,9,3,4,13,17,5,7,6,5,10,6,12,7,10,4,11,5,9,5,1,3,2,2,1,0,0\\n', '0,0,1,3,1,5,4,2,4,8,3,7,3,13,6,11,16,16,17,13,13,11,7,17,16,7,4,12,9,10,10,9,5,7,3,2,3,2,1,1\\n', '0,1,1,1,1,2,3,4,8,5,6,8,6,13,7,14,7,12,15,10,5,7,6,6,13,11,10,4,6,11,2,4,2,7,5,5,1,1,0,0\\n', '0,0,2,2,3,2,3,1,8,9,6,6,10,12,6,9,7,12,11,17,15,18,15,13,15,3,11,9,8,10,2,2,3,7,2,2,4,2,2,0\\n', '0,1,0,2,2,3,5,3,3,5,5,4,12,5,10,4,6,10,10,6,13,9,13,12,13,12,11,8,9,9,8,9,5,3,2,2,1,0,0,1\\n', '0,1,1,3,1,5,4,4,6,6,10,10,8,4,4,11,15,6,6,7,10,15,11,17,6,13,7,9,11,6,10,2,3,2,2,5,1,1,0,1\\n', '0,0,0,3,3,2,2,7,7,9,2,8,4,3,7,12,5,5,4,18,19,9,15,13,11,14,9,7,10,6,7,5,8,7,5,1,1,0,2,0\\n', '0,0,2,1,1,5,5,1,7,9,3,9,5,6,8,8,12,4,12,14,18,5,7,11,16,14,12,11,8,5,3,9,2,4,6,4,4,1,2,0\\n', '0,1,0,2,1,2,5,5,2,2,3,11,5,5,6,3,6,9,10,7,14,8,7,7,14,14,5,10,5,8,9,9,6,5,1,1,3,3,1,0\\n', '0,1,1,2,3,4,1,5,6,7,4,2,11,11,11,8,13,4,11,16,12,18,18,11,9,5,3,7,7,11,7,5,4,5,3,1,2,2,1,1\\n', '0,1,2,2,4,2,2,4,4,7,9,8,12,3,6,7,14,9,7,13,9,11,10,12,10,4,4,11,5,7,8,4,6,1,4,5,3,0,1,1\\n', '0,1,2,3,4,1,2,7,5,3,8,7,6,12,6,13,14,11,16,8,8,9,5,15,4,11,10,3,9,7,9,3,7,1,4,5,4,0,1,0\\n', '0,0,1,1,1,5,5,5,8,7,10,10,11,3,3,7,16,8,9,18,13,5,18,4,16,13,5,7,9,4,5,9,6,2,2,3,3,1,0,1\\n', '0,1,1,0,1,3,1,5,5,8,9,6,8,12,13,10,10,11,9,13,14,11,12,15,8,4,11,4,8,8,8,6,6,4,2,5,4,0,1,1\\n', '0,0,0,0,4,4,6,7,7,8,4,5,7,3,14,9,5,15,13,12,20,16,14,15,6,13,6,13,5,4,5,3,2,5,2,4,4,0,0,0\\n', '0,1,0,3,1,3,2,5,5,5,6,2,5,7,9,13,6,17,16,4,15,5,11,13,6,15,9,8,9,9,5,7,5,6,5,4,2,0,2,0\\n', '0,0,1,3,3,3,2,5,3,4,2,11,4,7,11,3,12,4,10,17,6,17,9,7,12,8,8,6,10,5,4,3,3,1,2,4,1,0,2,1\\n', '0,1,1,0,2,3,3,3,6,5,4,11,4,4,9,7,9,16,6,13,10,9,6,13,5,7,12,8,11,7,9,5,6,7,5,1,4,2,2,0\\n', '0,0,1,0,4,2,2,2,3,9,2,9,3,3,9,12,16,9,13,5,15,16,13,5,15,9,11,11,11,7,10,7,6,6,1,2,2,2,0,0\\n', '0,1,2,3,2,1,5,6,5,6,10,5,5,12,6,5,11,15,17,12,11,5,18,9,6,10,5,11,9,6,5,8,8,4,4,2,4,3,2,0\\n', '0,1,0,0,2,1,1,1,4,9,10,5,7,3,5,9,12,17,7,10,9,9,18,13,5,7,3,7,7,8,6,8,6,2,1,3,3,2,0,1\\n', '0,0,0,0,1,1,5,5,8,4,9,2,12,3,4,4,5,5,13,15,17,12,5,17,5,5,11,6,4,8,3,9,3,1,2,2,3,3,2,0\\n', '0,1,2,1,4,1,6,6,3,3,4,9,8,10,9,7,16,7,5,4,20,18,7,6,7,6,11,7,11,9,3,9,5,3,5,5,3,1,2,1\\n', '0,0,0,2,3,1,2,6,3,6,10,11,6,13,5,9,11,8,13,16,20,8,13,5,13,6,6,8,5,3,2,5,3,6,5,4,2,3,2,1\\n', '0,1,1,1,2,2,5,5,5,9,6,4,6,12,4,5,11,17,5,19,10,6,8,7,10,13,14,4,8,2,7,3,2,5,4,5,4,3,0,0\\n', '0,0,0,3,1,1,6,3,4,8,10,10,6,12,13,9,6,10,18,8,8,4,4,15,6,7,14,11,5,2,8,3,3,6,4,1,3,1,1,1\\n', '0,0,1,0,4,1,2,4,7,2,6,7,7,7,13,7,11,7,8,8,5,11,10,12,14,10,6,9,11,8,4,2,8,7,4,2,3,0,0,0\\n', '0,0,2,0,4,3,5,7,5,7,3,8,6,3,11,11,6,9,6,10,5,14,17,17,10,8,3,12,11,10,10,2,8,3,1,1,2,1,2,1\\n', '0,1,2,0,4,3,6,5,2,9,7,2,8,11,9,9,8,14,17,8,15,13,4,4,8,11,13,3,12,2,7,5,3,7,4,1,3,2,0,1\\n', '0,0,0,2,3,2,3,6,3,7,7,3,12,5,7,12,12,15,9,18,11,13,5,15,8,11,3,11,12,11,2,2,2,5,2,3,3,1,1,0\\n', '0,1,2,0,4,2,2,7,5,5,9,8,4,9,7,7,9,12,10,6,18,14,14,10,6,8,4,5,5,10,5,9,7,1,1,4,2,0,0,1\\n']\n"
     ]
    }
   ],
   "source": [
    "all_paths = [\n",
    "'/Users/Hiro/python/05_src/data/assignment_2_data/inflammation_09.csv',\n",
    " '/Users/Hiro/python/05_src/data/assignment_2_data/inflammation_08.csv',\n",
    " '/Users/Hiro/python/05_src/data/assignment_2_data/small_01.csv',\n",
    " '/Users/Hiro/python/05_src/data/assignment_2_data/inflammation_01.csv',\n",
    " '/Users/Hiro/python/05_src/data/assignment_2_data/inflammation_03.csv',\n",
    " '/Users/Hiro/python/05_src/data/assignment_2_data/small_02.csv',\n",
    " '/Users/Hiro/python/05_src/data/assignment_2_data/small_03.csv',\n",
    " '/Users/Hiro/python/05_src/data/assignment_2_data/inflammation_02.csv',\n",
    " '/Users/Hiro/python/05_src/data/assignment_2_data/inflammation_06.csv',\n",
    " '/Users/Hiro/python/05_src/data/assignment_2_data/inflammation_12.csv',\n",
    " '/Users/Hiro/python/05_src/data/assignment_2_data/inflammation_07.csv',\n",
    " '/Users/Hiro/python/05_src/data/assignment_2_data/inflammation_11.csv',\n",
    " '/Users/Hiro/python/05_src/data/assignment_2_data/inflammation_05.csv',\n",
    " '/Users/Hiro/python/05_src/data/assignment_2_data/inflammation_04.csv',\n",
    " '/Users/Hiro/python/05_src/data/assignment_2_data/inflammation_10.csv'\n",
    "]\n",
    "\n",
    "with open(all_paths[0], 'r') as f:\n",
    "    # YOUR CODE HERE: Use the readline() or readlines() method to read the .csv file into a variable\n",
    "    lines = print(f.readlines())\n",
    "    # YOUR CODE HERE: Iterate through the variable using a for loop and print each row for inspection\n",
    "    while lines:\n",
    "       print(line.strip())\n",
    "       line = f.readline()"
   ]
  },
  {
   "cell_type": "markdown",
   "metadata": {
    "id": "sacozX7oB1VP"
   },
   "source": [
    "## 2. Data Summarization Function: `patient_summary`\n",
    "\n",
    "Your next step is to create a function named `patient_summary` that will compute summary statistics for each patient's data over a 40-day period.\n",
    "\n",
    "**Function Specifications**:\n",
    "- **Function Name**: `patient_summary`\n",
    "- **Parameters**:\n",
    "  1. `file_path`: A string representing the path to the CSV file containing the patient data.\n",
    "  2. `operation`: A string specifying the type of summary operation to perform. Acceptable values are \"mean\", \"max\", or \"min\". This will determine whether the function calculates the average, maximum, or minimum number of flare-ups for each patient over the 40 days.\n",
    "\n",
    "**Expected Behavior**:\n",
    "- Your function should read the data from the file at `file_path`.\n",
    "- Perform the specified `operation` (mean, max, or min) to summarize the flare-ups data for each of the 60 patients.\n",
    "- Return an array with 60 elements, each element being the result of the summary operation for a corresponding patient.\n",
    "\n",
    "**Expected Output**:\n",
    "- The output should be an array with a length of 60, aligning with the number of patients in the study.\n",
    "\n",
    "**Hints for Implementation**:\n",
    "1. **Utilizing NumPy**: For efficient data manipulation and computation, consider using NumPy, as discussed in the `10_numpy` slides.\n",
    "2. **Output Shape**: Ensure that the shape of your output data matches the number of patients, which is 60."
   ]
  },
  {
   "cell_type": "code",
   "execution_count": 12,
   "metadata": {},
   "outputs": [],
   "source": [
    "import numpy as np"
   ]
  },
  {
   "cell_type": "code",
   "execution_count": null,
   "metadata": {
    "id": "82-bk4CBB1w4"
   },
   "outputs": [],
   "source": [
    "import numpy as np\n",
    "\n",
    "def patient_summary(file_path, operation):\n",
    "    data = np.loadtxt(fname=file_path, delimiter=',') # Load the data from the file\n",
    "    ax = 1  # This specifies that the operation should be done for each row (patient)\n",
    "\n",
    "    # Implement the specific operation based on the 'operation' argument\n",
    "    if operation == 'mean':\n",
    "        summary_values = data.mean(axis=ax)\n",
    "        # YOUR CODE HERE: Calculate the mean (average) number of flare-ups for each patient\n",
    "    elif operation == 'max':\n",
    "        # YOUR CODE HERE: Calculate the maximum number of flare-ups experienced by each patient\n",
    "        summary_values = data.max(axis=ax)\n",
    "    elif operation == 'min':\n",
    "        # YOUR CODE HERE: Calculate the minimum number of flare-ups experienced by each patient\n",
    "        summary_values = data.min(axis=ax)\n",
    "    else:\n",
    "        # If the operation is not one of the expected values, raise an error\n",
    "        raise ValueError(\"Invalid operation. Please choose 'mean', 'max', or 'min'.\")\n",
    "\n",
    "    return summary_values"
   ]
  },
  {
   "cell_type": "code",
   "execution_count": 16,
   "metadata": {
    "id": "3TYo0-1SDLrd"
   },
   "outputs": [
    {
     "name": "stdout",
     "output_type": "stream",
     "text": [
      "60\n"
     ]
    }
   ],
   "source": [
    "# Test it out on the data file we read in and make sure the size is what we expect i.e., 60\n",
    "# Your output for the first file should be 60\n",
    "data_min = patient_summary(all_paths[0], 'min')\n",
    "print(len(data_min))"
   ]
  },
  {
   "cell_type": "markdown",
   "metadata": {
    "id": "I-5m0RvxFx4J"
   },
   "source": [
    "## 3. Error Detection in Patient Data\n",
    "\n",
    "Your final task is to develop a function named `detect_problems` that identifies any irregularities in the patient data, specifically focusing on detecting patients with a mean inflammation score of 0.\n",
    "\n",
    "**Function Specifications**:\n",
    "- **Function Name**: `detect_problems`\n",
    "- **Parameter**:\n",
    "  - `file_path`: A string that specifies the path to the CSV file containing patient data.\n",
    "\n",
    "**Expected Behavior**:\n",
    "- The function should read the patient data from the file at `file_path`.\n",
    "- Utilize the previously defined `patient_summary()` function to calculate the mean inflammation for each patient.\n",
    "- Employ an additional helper function `check_zeros(x)` (provided) to determine if there are any zero values in the array of mean inflammations.\n",
    "- The `detect_problems()` function should return `True` if there is at least one patient with a mean inflammation score of 0, and `False` otherwise.\n",
    "\n",
    "**Hints for Implementation**:\n",
    "1. Call `patient_summary(file_path, 'mean')` to get the mean inflammation scores for all patients.\n",
    "2. Use `check_zeros()` to evaluate the mean scores. This helper function takes an array as input and returns `True` if it finds zero values in the array.\n",
    "3. Based on the output from `check_zeros()`, the `detect_problems()` function should return `True` (indicating an issue) if any mean inflammation scores of 0 are found, or `False` if none are found.\n",
    "\n",
    "**Note**: This function is crucial for identifying potential data entry errors, such as healthy individuals being mistakenly included in the dataset or other data-related issues."
   ]
  },
  {
   "cell_type": "markdown",
   "metadata": {
    "id": "pb9EugDCJA4c"
   },
   "source": [
    "**Understanding the `check_zeros(x)` Helper Function**\n",
    "\n",
    "The `check_zeros(x)` function is provided as a tool to assist with your data analysis. While you do not need to modify or fully understand the internal workings of this function, it's important to grasp its input, output, and what the output signifies:\n",
    "\n",
    "1. **Input**:\n",
    "   - **Parameter `x`**: This function takes an array of numbers as its input. In the context of your assignment, this array will typically represent a set of data points from your patient data, such as mean inflammation scores.\n",
    "\n",
    "2. **Output**:\n",
    "   - The function returns a boolean value: either `True` or `False`.\n",
    "\n",
    "3. **Interpreting the Output**:\n",
    "   - **Output is `True`**: This indicates that the array `x` contains at least one zero value. In the context of your analysis, this means that at least one patient has a mean inflammation score of 0, signaling a potential issue or anomaly in the data.\n",
    "   - **Output is `False`**: This signifies that there are no zero values in the array `x`. For your patient data, it means no patient has a mean inflammation score of 0, and thus no apparent anomalies of this type were detected.\n",
    "\n",
    "**Usage in Your Analysis**:\n",
    "When using `check_zeros(x)` in conjunction with your `patient_summary()` function in the `detect_problems()` function, you'll be checking whether any patient in your dataset has an average (mean) inflammation score of 0."
   ]
  },
  {
   "cell_type": "code",
   "execution_count": 34,
   "metadata": {
    "id": "_svDiRkdIwiT"
   },
   "outputs": [],
   "source": [
    "# Run this cell so you can use this helper function\n",
    "\n",
    "def check_zeros(x):\n",
    "    '''\n",
    "    Given an array, x, check whether any values in x equal 0.\n",
    "    Return True if any values found, else returns False.\n",
    "    '''\n",
    "    # np.where() checks every value in x against the condition (x == 0) and returns a tuple of indices where it was True (i.e. x was 0)\n",
    "    flag = np.where(x == 0)[0]\n",
    "\n",
    "    # Checks if there are any objects in flag (i.e. not empty)\n",
    "    # If not empty, it found at least one zero so flag is True, and vice-versa.\n",
    "    return len(flag) > 0"
   ]
  },
  {
   "cell_type": "code",
   "execution_count": 37,
   "metadata": {
    "id": "LEYPM5v4JT0i"
   },
   "outputs": [],
   "source": [
    "# Define your function `detect_problems` here\n",
    "\n",
    "def detect_problems(file_path):\n",
    "  #YOUR CODE HERE: Use patient_summary() to get the means and check_zeros() to check for zeros in the means\n",
    "  mean = patient_summary(file_path, 'mean')\n",
    "\n",
    "  has_zeros = check_zeros(mean)\n",
    "  return has_zeros"
   ]
  },
  {
   "cell_type": "code",
   "execution_count": 38,
   "metadata": {},
   "outputs": [
    {
     "name": "stdout",
     "output_type": "stream",
     "text": [
      "False\n"
     ]
    }
   ],
   "source": [
    "# Test out your code here\n",
    "# Your output for the first file should be False\n",
    "print(detect_problems(all_paths[0]))"
   ]
  },
  {
   "cell_type": "markdown",
   "metadata": {
    "id": "j9SUzhiGuHhS"
   },
   "source": [
    "| Criteria                     | Complete Criteria                                                                                                                                                                 | Incomplete Criteria                                                                                                         |\n",
    "|------------------------------|-------------------------------------------------------------------------------------------------------------------------------------------------------------------------------|-----------------------------------------------------------------------------------------------------------------------|\n",
    "| **General Criteria**         |                                                                                                                                                                               |                                                                                                                       |\n",
    "| Code Execution               | All code cells execute without errors.                                                                                                                                        | Any code cell produces an error upon execution.                                                                      |\n",
    "| Code Quality                 | Code is well-organized, concise, and includes necessary comments for clarity.                                                                                                 | Code is unorganized, verbose, or lacks necessary comments.                                                            |\n",
    "| Data Handling                | Data files are correctly handled and processed.                                                                                                                               | Data files are not handled or processed correctly.                                                                    |\n",
    "| Adherence to Instructions    | Follows all instructions and requirements as per the assignment.                                                                                                              | Misses or incorrectly implements one or more of the assignment requirements.                                         |\n",
    "| **Specific Criteria**        |                                                                                                                                                                               |                                                                                                                       |\n",
    "| 1. Reading in our files | Correctly prints out information from the first file.                                                  | Fails to print out information from the first file.                              |\n",
    "| 2. Summarizing our data | Correctly defines `patient_summary()` function. Function processes data as per `operation` and outputs correctly shaped data (60 entries).                                   | Incomplete or incorrect definition of `patient_summary()`. Incorrect implementation of operation or wrong output shape.|\n",
    "| 3. Checking for Errors  | Correctly defines `detect_problems()` function. Function uses `patient_summary()` and `check_zeros()` to identify mean inflammation of 0 accurately.                        | Incorrect definition or implementation of `detect_problems()` function. Fails to accurately identify mean inflammation of 0.|\n",
    "| **Overall Assessment**       | Meets all the general and specific criteria, indicating a strong understanding of the assignment objectives.                                                                  | Fails to meet one or more of the general or specific criteria, indicating a need for further learning or clarification.|\n"
   ]
  },
  {
   "cell_type": "markdown",
   "metadata": {
    "id": "TY_ppBzHvdak"
   },
   "source": [
    "## References\n",
    "\n",
    "### Data Sources\n",
    "- Software Carpentry. _Python Novice Inflammation Data_. http://swcarpentry.github.io/python-novice-inflammation/data/python-novice-inflammation-data.zip\n"
   ]
  }
 ],
 "metadata": {
  "colab": {
   "provenance": []
  },
  "kernelspec": {
   "display_name": "dsi_participant",
   "language": "python",
   "name": "python3"
  },
  "language_info": {
   "codemirror_mode": {
    "name": "ipython",
    "version": 3
   },
   "file_extension": ".py",
   "mimetype": "text/x-python",
   "name": "python",
   "nbconvert_exporter": "python",
   "pygments_lexer": "ipython3",
   "version": "3.9.18"
  }
 },
 "nbformat": 4,
 "nbformat_minor": 0
}
